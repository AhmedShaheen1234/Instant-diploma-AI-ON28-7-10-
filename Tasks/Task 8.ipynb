{
 "cells": [
  {
   "cell_type": "code",
   "execution_count": 2,
   "id": "bce2f548",
   "metadata": {},
   "outputs": [
    {
     "name": "stdout",
     "output_type": "stream",
     "text": [
      "The name =  ['Ahmed Hafez', 'Ali Osama']\n",
      "The number =  ['0102345678', '0124342342']\n",
      "The email = ['ahmed@gmail.com', 'ali@gmail.com']\n",
      "The name =  ['Ahmed Hafez', 'Ali Osama']\n",
      "The number =  ['0102345678', '0124342342']\n",
      "The email = ['ahmed@gmail.com', 'ali@gmail.com']\n"
     ]
    }
   ],
   "source": [
    "#f = open(\"C:\\\\Users\\\\HUAWEI\\\\Desktop\\\\her\\\\task.txt\",\"r\")\n",
    "#f.write(\"Ahmed Hafez 0102345678 ahmed@gmail.com\\nAli Osama 0124342342 ali@gmail.com\")#that will remove any thing in file\n",
    "#deat = f.read()\n",
    "\n",
    "\n",
    "#abouve how create and read file and the under is methode general without using re ^_^\n",
    "name_list = []\n",
    "phone_list = []\n",
    "email_list = []\n",
    "with open(\"C:\\\\Users\\\\HUAWEI\\\\Desktop\\\\her\\\\task.txt\", \"r\") as file:\n",
    "    lines = file.readlines()\n",
    "    for line in lines:\n",
    "        parts = line.strip().split()\n",
    "        name = \" \".join(parts[:-2])\n",
    "        phone = parts[-2]\n",
    "        email = parts[-1]     \n",
    "        name_list.append(name)\n",
    "        phone_list.append(phone)\n",
    "        email_list.append(email)\n",
    "print(\"The name = \", name_list)\n",
    "print(\"The number = \", phone_list)\n",
    "print(\"The email =\",email_list)\n",
    "#f.close()\n",
    "\n",
    "\n",
    "\n",
    "#for advanced task with use re.compile\n",
    "import re\n",
    "Advance_name_list = []\n",
    "Advance_phone_list = []\n",
    "Advance_email_list = []\n",
    "name_pattern = re.compile(r'^(.*?)\\s*\\d+\\s*$')\n",
    "email_pattern = re.compile(r'\\b[A-Za-z0-9._%+-]+@[A-Za-z0-9.-]+\\.[A-Z|a-z]{2,7}\\b')\n",
    "phone_pattern = re.compile(r'\\d+')\n",
    "with open(\"C:\\\\Users\\\\HUAWEI\\\\Desktop\\\\her\\\\taskadvanced.txt\", \"r\") as file:\n",
    "    lines = file.readlines()\n",
    "    for line in lines:\n",
    "        name_match = name_pattern.search(line)\n",
    "        email_match = email_pattern.search(line)\n",
    "        phone_match = phone_pattern.search(line)\n",
    "        if name_match:\n",
    "            name = name_match.group(1).strip()\n",
    "            if email_match:\n",
    "                name = name.replace(email_match.group(), '').strip()\n",
    "            Advance_name_list.append(name)\n",
    "        if email_match:\n",
    "            Advance_email_list.append(email_match.group())\n",
    "        if phone_match:\n",
    "            Advance_phone_list.append(phone_match.group())\n",
    "print(\"Names:\", Advance_name_list)\n",
    "print(\"Phone numbers:\", Advance_phone_list)\n",
    "print(\"Emails:\", Advance_email_list)"
   ]
  },
  {
   "cell_type": "code",
   "execution_count": 6,
   "id": "eb2a89cf",
   "metadata": {},
   "outputs": [
    {
     "name": "stdout",
     "output_type": "stream",
     "text": [
      "Names: ['Ahmed Hafez', 'Ali Osama']\n",
      "Phone numbers: ['0102345678', '0124342342']\n",
      "Emails: ['ahmed@gmail.com', 'ali@gmail.com']\n"
     ]
    }
   ],
   "source": []
  },
  {
   "cell_type": "code",
   "execution_count": null,
   "id": "abf7c314",
   "metadata": {},
   "outputs": [],
   "source": []
  }
 ],
 "metadata": {
  "kernelspec": {
   "display_name": "Python 3 (ipykernel)",
   "language": "python",
   "name": "python3"
  },
  "language_info": {
   "codemirror_mode": {
    "name": "ipython",
    "version": 3
   },
   "file_extension": ".py",
   "mimetype": "text/x-python",
   "name": "python",
   "nbconvert_exporter": "python",
   "pygments_lexer": "ipython3",
   "version": "3.11.3"
  }
 },
 "nbformat": 4,
 "nbformat_minor": 5
}
