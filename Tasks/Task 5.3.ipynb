{
 "cells": [
  {
   "cell_type": "code",
   "execution_count": 15,
   "id": "0434ad38",
   "metadata": {},
   "outputs": [
    {
     "name": "stdout",
     "output_type": "stream",
     "text": [
      "Neighbors the letter you write it =  ['B']\n",
      "Neighbors the letter you write it =  ['B']\n",
      "this is the graph ^-^ -->  {'A': ['B'], 'B': ['A', 'C'], 'C': ['B']}\n"
     ]
    }
   ],
   "source": [
    "class Graphimplementation:\n",
    "    def __init__(self):\n",
    "        self.graph = {}\n",
    "\n",
    "    def nodeaddition(self, node):\n",
    "        if node not in self.graph:\n",
    "            self.graph[node] = []\n",
    "\n",
    "    def edge(self, node1, node2):\n",
    "        if node1 in self.graph and node2 in self.graph:\n",
    "            self.graph[node1].append(node2)\n",
    "            self.graph[node2].append(node1) \n",
    "\n",
    "    def neighbors(self, node):\n",
    "        if node in self.graph:\n",
    "            return self.graph[node]\n",
    "        else:\n",
    "            return []\n",
    "\n",
    "    def __str__(self):\n",
    "        return str(self.graph)\n",
    "\n",
    "graph = Graphimplementation()\n",
    "graph.nodeaddition(\"A\")\n",
    "graph.nodeaddition(\"B\")\n",
    "graph.nodeaddition(\"C\")\n",
    "\n",
    "graph.edge(\"A\", \"B\")\n",
    "graph.edge(\"B\", \"C\")\n",
    "print(\"Neighbors the letter you write it = \", graph.neighbors(\"A\"))\n",
    "print(\"Neighbors the letter you write it = \", graph.neighbors(\"C\"))\n",
    "print(\"this is the graph ^-^ --> \", graph)"
   ]
  },
  {
   "cell_type": "code",
   "execution_count": null,
   "id": "3622430c",
   "metadata": {},
   "outputs": [],
   "source": []
  }
 ],
 "metadata": {
  "kernelspec": {
   "display_name": "Python 3 (ipykernel)",
   "language": "python",
   "name": "python3"
  },
  "language_info": {
   "codemirror_mode": {
    "name": "ipython",
    "version": 3
   },
   "file_extension": ".py",
   "mimetype": "text/x-python",
   "name": "python",
   "nbconvert_exporter": "python",
   "pygments_lexer": "ipython3",
   "version": "3.11.3"
  }
 },
 "nbformat": 4,
 "nbformat_minor": 5
}
