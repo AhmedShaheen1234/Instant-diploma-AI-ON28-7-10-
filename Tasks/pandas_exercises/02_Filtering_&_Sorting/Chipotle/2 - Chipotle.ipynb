{
 "cells": [
  {
   "cell_type": "markdown",
   "metadata": {},
   "source": [
    "# Ex1 - Filtering and Sorting Data"
   ]
  },
  {
   "cell_type": "markdown",
   "metadata": {},
   "source": [
    "This time we are going to pull data directly from the internet.\n",
    "Special thanks to: https://github.com/justmarkham for sharing the dataset and materials.\n",
    "\n",
    "### Step 1. Import the necessary libraries"
   ]
  },
  {
   "cell_type": "code",
   "execution_count": 1,
   "metadata": {},
   "outputs": [],
   "source": [
    "import pandas as pd\n",
    "import numpy as np"
   ]
  },
  {
   "cell_type": "markdown",
   "metadata": {},
   "source": [
    "### Step 2. Import the dataset from this [address](https://raw.githubusercontent.com/justmarkham/DAT8/master/data/chipotle.tsv). "
   ]
  },
  {
   "cell_type": "code",
   "execution_count": 2,
   "metadata": {},
   "outputs": [],
   "source": [
    "intial_url = \"https://raw.githubusercontent.com/justmarkham/DAT8/master/data/chipotle.tsv\""
   ]
  },
  {
   "cell_type": "code",
   "execution_count": 4,
   "metadata": {},
   "outputs": [],
   "source": [
    "chipotle_data = pd.read_csv(intial_url, sep='\\t')"
   ]
  },
  {
   "cell_type": "markdown",
   "metadata": {},
   "source": [
    "### Step 4. How many products cost more than $10.00?"
   ]
  },
  {
   "cell_type": "code",
   "execution_count": 10,
   "metadata": {},
   "outputs": [
    {
     "name": "stdout",
     "output_type": "stream",
     "text": [
      "cost more than $10.00 =  4622\n"
     ]
    }
   ],
   "source": [
    "chipotle_data['item_price'] = chipotle_data['item_price'].astype(str)\n",
    "costing_more = chipotle_data[chipotle_data['item_price'] > '$10.00']\n",
    "count = len(costing_more)\n",
    "print(\"cost more than $10.00 = \", count)"
   ]
  },
  {
   "cell_type": "markdown",
   "metadata": {},
   "source": [
    "### Step 5. What is the price of each item? \n",
    "###### print a data frame with only two columns item_name and item_price"
   ]
  },
  {
   "cell_type": "code",
   "execution_count": 12,
   "metadata": {},
   "outputs": [
    {
     "name": "stdout",
     "output_type": "stream",
     "text": [
      "                                  item_name item_price\n",
      "0              Chips and Fresh Tomato Salsa       2.39\n",
      "1                                      Izze       3.39\n",
      "2                          Nantucket Nectar       3.39\n",
      "3     Chips and Tomatillo-Green Chili Salsa       2.39\n",
      "4                              Chicken Bowl      16.98\n",
      "...                                     ...        ...\n",
      "4237                    Chips and Guacamole        8.5\n",
      "4354                       Steak Soft Tacos       18.5\n",
      "4489                    Chips and Guacamole       17.8\n",
      "4509                                  Chips       1.99\n",
      "4510                          Barbacoa Bowl      11.49\n",
      "\n",
      "[209 rows x 2 columns]\n"
     ]
    }
   ],
   "source": [
    "item_prices = chipotle_data[['item_name', 'item_price']].drop_duplicates()\n",
    "print(item_prices)"
   ]
  },
  {
   "cell_type": "markdown",
   "metadata": {},
   "source": [
    "### Step 6. Sort by the name of the item"
   ]
  },
  {
   "cell_type": "code",
   "execution_count": 13,
   "metadata": {},
   "outputs": [
    {
     "name": "stdout",
     "output_type": "stream",
     "text": [
      "              item_name item_price\n",
      "3389  6 Pack Soft Drink      12.98\n",
      "298   6 Pack Soft Drink       6.49\n",
      "4510      Barbacoa Bowl      11.49\n",
      "3195      Barbacoa Bowl       8.69\n",
      "95        Barbacoa Bowl       9.25\n",
      "...                 ...        ...\n",
      "186   Veggie Salad Bowl      11.25\n",
      "3889  Veggie Soft Tacos      16.98\n",
      "738   Veggie Soft Tacos      11.25\n",
      "781   Veggie Soft Tacos       8.75\n",
      "1395  Veggie Soft Tacos       8.49\n",
      "\n",
      "[209 rows x 2 columns]\n"
     ]
    }
   ],
   "source": [
    "sorted_items = item_prices.sort_values(by='item_name')\n",
    "print(sorted_items)"
   ]
  },
  {
   "cell_type": "markdown",
   "metadata": {},
   "source": [
    "### Step 7. What was the quantity of the most expensive item ordered?"
   ]
  },
  {
   "cell_type": "code",
   "execution_count": 14,
   "metadata": {},
   "outputs": [
    {
     "name": "stdout",
     "output_type": "stream",
     "text": [
      "quantity of the most expensive item =  1\n"
     ]
    }
   ],
   "source": [
    "most_expensive = chipotle_data[chipotle_data['item_price'] == chipotle_data['item_price'].max()]\n",
    "most_expensive_quantity = most_expensive.iloc[0]['quantity']\n",
    "print(\"quantity of the most expensive item = \",most_expensive_quantity)"
   ]
  },
  {
   "cell_type": "markdown",
   "metadata": {},
   "source": [
    "### Step 8. How many times was a Veggie Salad Bowl ordered?"
   ]
  },
  {
   "cell_type": "code",
   "execution_count": 15,
   "metadata": {},
   "outputs": [
    {
     "name": "stdout",
     "output_type": "stream",
     "text": [
      "Number of times a Veggie Bowl  =  18\n"
     ]
    }
   ],
   "source": [
    "veggie_count = len(chipotle_data[chipotle_data['item_name'] == 'Veggie Salad Bowl'])\n",
    "print(\"Number of times a Veggie Bowl  = \", veggie_count)"
   ]
  },
  {
   "cell_type": "markdown",
   "metadata": {},
   "source": [
    "### Step 9. How many times did someone order more than one Canned Soda?"
   ]
  },
  {
   "cell_type": "code",
   "execution_count": 16,
   "metadata": {},
   "outputs": [
    {
     "name": "stdout",
     "output_type": "stream",
     "text": [
      "number someone more than one Canned Soda =  20\n"
     ]
    }
   ],
   "source": [
    "canned_count = len(chipotle_data[(chipotle_data['item_name'] == 'Canned Soda') & (chipotle_data['quantity'] > 1)])\n",
    "print(\"number someone more than one Canned Soda = \",canned_count)"
   ]
  }
 ],
 "metadata": {
  "kernelspec": {
   "display_name": "Python 3 (ipykernel)",
   "language": "python",
   "name": "python3"
  },
  "language_info": {
   "codemirror_mode": {
    "name": "ipython",
    "version": 3
   },
   "file_extension": ".py",
   "mimetype": "text/x-python",
   "name": "python",
   "nbconvert_exporter": "python",
   "pygments_lexer": "ipython3",
   "version": "3.11.3"
  }
 },
 "nbformat": 4,
 "nbformat_minor": 1
}
