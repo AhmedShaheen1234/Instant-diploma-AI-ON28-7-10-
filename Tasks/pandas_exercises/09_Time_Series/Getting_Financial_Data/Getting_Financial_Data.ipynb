{
 "cells": [
  {
   "cell_type": "markdown",
   "metadata": {},
   "source": [
    "# Getting Financial Data - Pandas Datareader"
   ]
  },
  {
   "cell_type": "markdown",
   "metadata": {},
   "source": [
    "### Introduction:\n",
    "\n",
    "This time you will get data from a website.\n",
    "\n",
    "\n",
    "### Step 1. Import the necessary libraries"
   ]
  },
  {
   "cell_type": "code",
   "execution_count": 13,
   "metadata": {},
   "outputs": [
    {
     "name": "stdout",
     "output_type": "stream",
     "text": [
      "Requirement already satisfied: pandas_datareader in c:\\users\\huawei\\anaconda3\\lib\\site-packages (0.10.0)\n",
      "Requirement already satisfied: lxml in c:\\users\\huawei\\anaconda3\\lib\\site-packages (from pandas_datareader) (4.9.2)\n",
      "Requirement already satisfied: pandas>=0.23 in c:\\users\\huawei\\anaconda3\\lib\\site-packages (from pandas_datareader) (1.5.3)\n",
      "Requirement already satisfied: requests>=2.19.0 in c:\\users\\huawei\\anaconda3\\lib\\site-packages (from pandas_datareader) (2.29.0)\n",
      "Requirement already satisfied: python-dateutil>=2.8.1 in c:\\users\\huawei\\anaconda3\\lib\\site-packages (from pandas>=0.23->pandas_datareader) (2.8.2)\n",
      "Requirement already satisfied: pytz>=2020.1 in c:\\users\\huawei\\anaconda3\\lib\\site-packages (from pandas>=0.23->pandas_datareader) (2022.7)\n",
      "Requirement already satisfied: numpy>=1.21.0 in c:\\users\\huawei\\anaconda3\\lib\\site-packages (from pandas>=0.23->pandas_datareader) (1.24.3)\n",
      "Requirement already satisfied: charset-normalizer<4,>=2 in c:\\users\\huawei\\anaconda3\\lib\\site-packages (from requests>=2.19.0->pandas_datareader) (2.0.4)\n",
      "Requirement already satisfied: idna<4,>=2.5 in c:\\users\\huawei\\anaconda3\\lib\\site-packages (from requests>=2.19.0->pandas_datareader) (3.4)\n",
      "Requirement already satisfied: urllib3<1.27,>=1.21.1 in c:\\users\\huawei\\anaconda3\\lib\\site-packages (from requests>=2.19.0->pandas_datareader) (1.26.16)\n",
      "Requirement already satisfied: certifi>=2017.4.17 in c:\\users\\huawei\\anaconda3\\lib\\site-packages (from requests>=2.19.0->pandas_datareader) (2023.5.7)\n",
      "Requirement already satisfied: six>=1.5 in c:\\users\\huawei\\anaconda3\\lib\\site-packages (from python-dateutil>=2.8.1->pandas>=0.23->pandas_datareader) (1.16.0)\n"
     ]
    }
   ],
   "source": [
    "import pandas as pd\n",
    "import matplotlib.pyplot as plt\n",
    "from datetime import datetime\n",
    "!pip install pandas_datareader\n",
    "import pandas_datareader as pdr\n",
    "from datetime import datetime"
   ]
  },
  {
   "cell_type": "markdown",
   "metadata": {},
   "source": [
    "### Step 2. Create your time range (start and end variables). The start date should be 01/01/2015 and the end should today (whatever your today is)."
   ]
  },
  {
   "cell_type": "code",
   "execution_count": 10,
   "metadata": {},
   "outputs": [
    {
     "name": "stdout",
     "output_type": "stream",
     "text": [
      "Start Date: 2015-01-01 00:00:00\n",
      "End Date: 2023-10-28 21:06:04.472046\n"
     ]
    }
   ],
   "source": [
    "start_date = datetime(2015, 1, 1)\n",
    "end_date = datetime.today()\n",
    "print(\"Start Date:\", start_date)\n",
    "print(\"End Date:\", end_date)\n"
   ]
  },
  {
   "cell_type": "markdown",
   "metadata": {},
   "source": [
    "### Step 3. Get an API key for one of the APIs that are supported by Pandas Datareader, preferably for AlphaVantage.\n",
    "\n",
    "If you do not have an API key for any of the supported APIs, it is easiest to get one for [AlphaVantage](https://www.alphavantage.co/support/#api-key). (Note that the API key is shown directly after the signup. You do *not* receive it via e-mail.)\n",
    "\n",
    "(For a full list of the APIs that are supported by Pandas Datareader, [see here](https://pydata.github.io/pandas-datareader/readers/index.html). As the APIs are provided by third parties, this list may change.)"
   ]
  },
  {
   "cell_type": "markdown",
   "metadata": {},
   "source": [
    "### Step 4. Use Pandas Datarader to read the daily time series for the Apple stock (ticker symbol AAPL) between 01/01/2015 and today, assign it to df_apple and print it."
   ]
  },
  {
   "cell_type": "code",
   "execution_count": 17,
   "metadata": {},
   "outputs": [
    {
     "name": "stdout",
     "output_type": "stream",
     "text": [
      "              open      high      low   close    volume\n",
      "2015-01-02  111.39  111.4400  107.350  109.33  53204626\n",
      "2015-01-05  108.29  108.6500  105.410  106.25  64285491\n",
      "2015-01-06  106.54  107.4300  104.630  106.26  65797116\n",
      "2015-01-07  107.20  108.2000  106.695  107.75  40105934\n",
      "2015-01-08  109.23  112.1500  108.700  111.89  59364547\n",
      "...            ...       ...      ...     ...       ...\n",
      "2023-10-23  170.91  174.0100  169.930  173.00  55980109\n",
      "2023-10-24  173.05  173.6700  171.450  173.44  43816644\n",
      "2023-10-25  171.88  173.0600  170.650  171.10  57156962\n",
      "2023-10-26  170.37  171.3775  165.670  166.89  70625258\n",
      "2023-10-27  166.91  168.9600  166.830  168.22  58499129\n",
      "\n",
      "[2221 rows x 5 columns]\n"
     ]
    }
   ],
   "source": [
    "api_key = \"N807J0OSO42GEPP5\"\n",
    "df_apple = pdr.data.DataReader(\"AAPL\", \"av-daily\", start=start_date, end=end_date, api_key=api_key)\n",
    "print(df_apple)"
   ]
  },
  {
   "cell_type": "markdown",
   "metadata": {},
   "source": [
    "### Step 5. Add a new column \"stock\" to the dataframe and add the ticker symbol"
   ]
  },
  {
   "cell_type": "code",
   "execution_count": 21,
   "metadata": {},
   "outputs": [
    {
     "name": "stdout",
     "output_type": "stream",
     "text": [
      "              open      high      low   close    volume stock\n",
      "2015-01-02  111.39  111.4400  107.350  109.33  53204626  AAPL\n",
      "2015-01-05  108.29  108.6500  105.410  106.25  64285491  AAPL\n",
      "2015-01-06  106.54  107.4300  104.630  106.26  65797116  AAPL\n",
      "2015-01-07  107.20  108.2000  106.695  107.75  40105934  AAPL\n",
      "2015-01-08  109.23  112.1500  108.700  111.89  59364547  AAPL\n",
      "...            ...       ...      ...     ...       ...   ...\n",
      "2023-10-23  170.91  174.0100  169.930  173.00  55980109  AAPL\n",
      "2023-10-24  173.05  173.6700  171.450  173.44  43816644  AAPL\n",
      "2023-10-25  171.88  173.0600  170.650  171.10  57156962  AAPL\n",
      "2023-10-26  170.37  171.3775  165.670  166.89  70625258  AAPL\n",
      "2023-10-27  166.91  168.9600  166.830  168.22  58499129  AAPL\n",
      "\n",
      "[2221 rows x 6 columns]\n"
     ]
    }
   ],
   "source": [
    "df_apple['stock'] = 'AAPL'\n",
    "print(df_apple)"
   ]
  },
  {
   "cell_type": "markdown",
   "metadata": {},
   "source": [
    "### Step 6. Repeat the two previous steps for a few other stocks, always creating a new dataframe: Tesla, IBM and Microsoft. (Ticker symbols TSLA, IBM and MSFT.)"
   ]
  },
  {
   "cell_type": "code",
   "execution_count": 22,
   "metadata": {},
   "outputs": [
    {
     "name": "stdout",
     "output_type": "stream",
     "text": [
      "Tesla DataFrame:\n",
      "              open      high       low    close     volume stock\n",
      "2015-01-02  222.87  223.2500  213.2600  219.310    4764443  TSLA\n",
      "2015-01-05  214.55  216.5000  207.1626  210.090    5368477  TSLA\n",
      "2015-01-06  210.06  214.2000  204.2100  211.280    6261936  TSLA\n",
      "2015-01-07  213.35  214.7800  209.7800  210.950    2968390  TSLA\n",
      "2015-01-08  212.81  213.7999  210.0100  210.615    3442509  TSLA\n",
      "...            ...       ...       ...      ...        ...   ...\n",
      "2023-10-23  210.00  216.9800  202.5100  212.080  150683368  TSLA\n",
      "2023-10-24  216.50  222.0500  214.1100  216.520  118231113  TSLA\n",
      "2023-10-25  215.88  220.1000  212.2000  212.420  107065087  TSLA\n",
      "2023-10-26  211.32  214.8000  204.8800  205.760  115112635  TSLA\n",
      "2023-10-27  210.60  212.4100  205.7700  207.300   94881173  TSLA\n",
      "\n",
      "[2221 rows x 6 columns]\n",
      "IBM DataFrame:\n",
      "              open     high     low   close    volume stock\n",
      "2015-01-02  161.31  163.310  161.00  162.06   5525341   IBM\n",
      "2015-01-05  161.27  161.270  159.19  159.51   4880389   IBM\n",
      "2015-01-06  159.67  159.960  155.17  156.07   6145670   IBM\n",
      "2015-01-07  157.20  157.200  154.03  155.05   4701015   IBM\n",
      "2015-01-08  156.24  159.044  155.55  158.42   4240585   IBM\n",
      "...            ...      ...     ...     ...       ...   ...\n",
      "2023-10-23  136.63  137.680  135.87  136.38   3457527   IBM\n",
      "2023-10-24  136.74  137.980  136.05  137.79   3697975   IBM\n",
      "2023-10-25  137.50  138.490  136.33  137.08   6472549   IBM\n",
      "2023-10-26  142.20  144.410  141.58  143.76  11130170   IBM\n",
      "2023-10-27  143.62  144.700  141.71  142.52   5469227   IBM\n",
      "\n",
      "[2221 rows x 6 columns]\n",
      "MicrosoftDataFrame:\n",
      "               open      high       low    close    volume stock\n",
      "2015-01-02   46.660   47.4200   46.5400   46.760  27913852  MSFT\n",
      "2015-01-05   46.370   46.7300   46.2500   46.325  39673865  MSFT\n",
      "2015-01-06   46.380   46.7490   45.5400   45.650  36447854  MSFT\n",
      "2015-01-07   45.980   46.4600   45.4900   46.230  29114061  MSFT\n",
      "2015-01-08   46.750   47.7499   46.7200   47.590  29645202  MSFT\n",
      "...             ...       ...       ...      ...       ...   ...\n",
      "2023-10-23  325.470  332.7250  324.3900  329.320  24374748  MSFT\n",
      "2023-10-24  331.300  331.8400  327.6000  330.530  31153571  MSFT\n",
      "2023-10-25  345.020  346.2000  337.6200  340.670  55053828  MSFT\n",
      "2023-10-26  340.540  341.6300  326.9400  327.890  37828543  MSFT\n",
      "2023-10-27  330.425  336.7200  328.4007  329.810  29856522  MSFT\n",
      "\n",
      "[2221 rows x 6 columns]\n"
     ]
    }
   ],
   "source": [
    "df_tesla = pdr.data.DataReader(\"TSLA\", \"av-daily\", start=start_date, end=end_date, api_key=api_key)\n",
    "df_ibm = pdr.data.DataReader(\"IBM\", \"av-daily\", start=start_date, end=end_date, api_key=api_key)\n",
    "df_microsoft = pdr.data.DataReader(\"MSFT\", \"av-daily\", start=start_date, end=end_date, api_key=api_key)\n",
    "\n",
    "df_tesla['stock'] = 'TSLA'\n",
    "df_ibm['stock'] = 'IBM'\n",
    "df_microsoft['stock'] = 'MSFT'\n",
    "print(\"Tesla DataFrame:\")\n",
    "print(df_tesla)\n",
    "print(\"IBM DataFrame:\")\n",
    "print(df_ibm)\n",
    "print(\"MicrosoftDataFrame:\")\n",
    "print(df_microsoft)"
   ]
  },
  {
   "cell_type": "markdown",
   "metadata": {},
   "source": [
    "### Step 7. Combine the four separate dataFrames into one combined dataFrame df that holds the information for all four stocks"
   ]
  },
  {
   "cell_type": "code",
   "execution_count": 23,
   "metadata": {},
   "outputs": [
    {
     "name": "stdout",
     "output_type": "stream",
     "text": [
      "               open     high       low   close    volume stock\n",
      "2015-01-02  111.390  111.440  107.3500  109.33  53204626  AAPL\n",
      "2015-01-05  108.290  108.650  105.4100  106.25  64285491  AAPL\n",
      "2015-01-06  106.540  107.430  104.6300  106.26  65797116  AAPL\n",
      "2015-01-07  107.200  108.200  106.6950  107.75  40105934  AAPL\n",
      "2015-01-08  109.230  112.150  108.7000  111.89  59364547  AAPL\n",
      "...             ...      ...       ...     ...       ...   ...\n",
      "2023-10-23  325.470  332.725  324.3900  329.32  24374748  MSFT\n",
      "2023-10-24  331.300  331.840  327.6000  330.53  31153571  MSFT\n",
      "2023-10-25  345.020  346.200  337.6200  340.67  55053828  MSFT\n",
      "2023-10-26  340.540  341.630  326.9400  327.89  37828543  MSFT\n",
      "2023-10-27  330.425  336.720  328.4007  329.81  29856522  MSFT\n",
      "\n",
      "[8884 rows x 6 columns]\n"
     ]
    }
   ],
   "source": [
    "df = pd.concat([df_apple, df_tesla, df_ibm, df_microsoft])\n",
    "print(df)"
   ]
  },
  {
   "cell_type": "markdown",
   "metadata": {},
   "source": [
    "### Step 8. Shift the stock column into the index (making it a multi-level index consisting of the ticker symbol and the date)."
   ]
  },
  {
   "cell_type": "code",
   "execution_count": 24,
   "metadata": {},
   "outputs": [
    {
     "name": "stdout",
     "output_type": "stream",
     "text": [
      "                     open     high       low   close    volume\n",
      "           stock                                              \n",
      "2015-01-02 AAPL   111.390  111.440  107.3500  109.33  53204626\n",
      "2015-01-05 AAPL   108.290  108.650  105.4100  106.25  64285491\n",
      "2015-01-06 AAPL   106.540  107.430  104.6300  106.26  65797116\n",
      "2015-01-07 AAPL   107.200  108.200  106.6950  107.75  40105934\n",
      "2015-01-08 AAPL   109.230  112.150  108.7000  111.89  59364547\n",
      "...                   ...      ...       ...     ...       ...\n",
      "2023-10-23 MSFT   325.470  332.725  324.3900  329.32  24374748\n",
      "2023-10-24 MSFT   331.300  331.840  327.6000  330.53  31153571\n",
      "2023-10-25 MSFT   345.020  346.200  337.6200  340.67  55053828\n",
      "2023-10-26 MSFT   340.540  341.630  326.9400  327.89  37828543\n",
      "2023-10-27 MSFT   330.425  336.720  328.4007  329.81  29856522\n",
      "\n",
      "[8884 rows x 5 columns]\n"
     ]
    }
   ],
   "source": [
    "df.set_index('stock', append=True, inplace=True)\n",
    "print(df)"
   ]
  },
  {
   "cell_type": "markdown",
   "metadata": {},
   "source": [
    "### Step 7. Create a dataFrame called vol, with the volume values."
   ]
  },
  {
   "cell_type": "code",
   "execution_count": 29,
   "metadata": {},
   "outputs": [
    {
     "name": "stdout",
     "output_type": "stream",
     "text": [
      "                    volume\n",
      "           stock          \n",
      "2015-01-02 AAPL   53204626\n",
      "2015-01-05 AAPL   64285491\n",
      "2015-01-06 AAPL   65797116\n",
      "2015-01-07 AAPL   40105934\n",
      "2015-01-08 AAPL   59364547\n",
      "...                    ...\n",
      "2023-10-23 MSFT   24374748\n",
      "2023-10-24 MSFT   31153571\n",
      "2023-10-25 MSFT   55053828\n",
      "2023-10-26 MSFT   37828543\n",
      "2023-10-27 MSFT   29856522\n",
      "\n",
      "[8884 rows x 1 columns]\n"
     ]
    }
   ],
   "source": [
    "vol = df[['volume']]\n",
    "print(vol)"
   ]
  },
  {
   "cell_type": "markdown",
   "metadata": {},
   "source": [
    "### Step 8. Aggregate the data of volume to weekly.\n",
    "Hint: Be careful to not sum data from the same week of 2015 and other years."
   ]
  }
 ],
 "metadata": {
  "kernelspec": {
   "display_name": "Python 3 (ipykernel)",
   "language": "python",
   "name": "python3"
  },
  "language_info": {
   "codemirror_mode": {
    "name": "ipython",
    "version": 3
   },
   "file_extension": ".py",
   "mimetype": "text/x-python",
   "name": "python",
   "nbconvert_exporter": "python",
   "pygments_lexer": "ipython3",
   "version": "3.11.3"
  }
 },
 "nbformat": 4,
 "nbformat_minor": 1
}
