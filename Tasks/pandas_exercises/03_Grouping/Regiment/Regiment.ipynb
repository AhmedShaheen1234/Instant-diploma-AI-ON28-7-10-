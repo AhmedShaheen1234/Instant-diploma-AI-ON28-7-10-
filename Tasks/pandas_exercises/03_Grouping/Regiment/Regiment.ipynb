{
 "cells": [
  {
   "cell_type": "markdown",
   "metadata": {},
   "source": [
    "# Regiment"
   ]
  },
  {
   "cell_type": "markdown",
   "metadata": {},
   "source": [
    "### Introduction:\n",
    "\n",
    "Special thanks to: http://chrisalbon.com/ for sharing the dataset and materials.\n",
    "\n",
    "### Step 1. Import the necessary libraries"
   ]
  },
  {
   "cell_type": "code",
   "execution_count": 1,
   "metadata": {},
   "outputs": [],
   "source": [
    "import pandas as pd"
   ]
  },
  {
   "cell_type": "markdown",
   "metadata": {},
   "source": [
    "### Step 2. Create the DataFrame with the following values:"
   ]
  },
  {
   "cell_type": "code",
   "execution_count": 2,
   "metadata": {},
   "outputs": [],
   "source": [
    "raw_data = {\n",
    "    'regiment': ['Nighthawks', 'Nighthawks', 'Nighthawks', 'Nighthawks', 'Dragoons', 'Dragoons', 'Dragoons', 'Dragoons', 'Scouts', 'Scouts', 'Scouts', 'Scouts'],\n",
    "    'company': ['1st', '1st', '2nd', '2nd', '1st', '1st', '2nd', '2nd', '1st', '1st', '2nd', '2nd'],\n",
    "    'name': ['Miller', 'Jacobson', 'Ali', 'Milner', 'Cooze', 'Jacon', 'Ryaner', 'Sone', 'Sloan', 'Piger', 'Riani', 'Ali'],\n",
    "    'preTestScore': [4, 24, 31, 2, 3, 4, 24, 31, 2, 3, 2, 3],\n",
    "    'postTestScore': [25, 94, 57, 62, 70, 25, 94, 57, 62, 70, 62, 70]\n",
    "}"
   ]
  },
  {
   "cell_type": "markdown",
   "metadata": {},
   "source": [
    "### Step 3. Assign it to a variable called regiment.\n",
    "#### Don't forget to name each column"
   ]
  },
  {
   "cell_type": "code",
   "execution_count": 3,
   "metadata": {},
   "outputs": [],
   "source": [
    "regiment = pd.DataFrame(raw_data)"
   ]
  },
  {
   "cell_type": "markdown",
   "metadata": {},
   "source": [
    "### Step 4. What is the mean preTestScore from the regiment Nighthawks?  "
   ]
  },
  {
   "cell_type": "code",
   "execution_count": 4,
   "metadata": {},
   "outputs": [
    {
     "name": "stdout",
     "output_type": "stream",
     "text": [
      "Mean preTestScore =  15.25\n"
     ]
    }
   ],
   "source": [
    "mean_preTestScore = regiment[regiment['regiment'] == 'Nighthawks']['preTestScore'].mean()\n",
    "print(\"Mean preTestScore = \",mean_preTestScore)"
   ]
  },
  {
   "cell_type": "markdown",
   "metadata": {},
   "source": [
    "### Step 5. Present general statistics by company"
   ]
  },
  {
   "cell_type": "code",
   "execution_count": 5,
   "metadata": {},
   "outputs": [
    {
     "name": "stdout",
     "output_type": "stream",
     "text": [
      "Statistics by Company =          preTestScore                                                      \\\n",
      "               count       mean        std  min   25%   50%    75%   max   \n",
      "company                                                                    \n",
      "1st              6.0   6.666667   8.524475  2.0  3.00   3.5   4.00  24.0   \n",
      "2nd              6.0  15.500000  14.652645  2.0  2.25  13.5  29.25  31.0   \n",
      "\n",
      "        postTestScore                                                       \n",
      "                count       mean        std   min    25%   50%   75%   max  \n",
      "company                                                                     \n",
      "1st               6.0  57.666667  27.485754  25.0  34.25  66.0  70.0  94.0  \n",
      "2nd               6.0  67.000000  14.057027  57.0  58.25  62.0  68.0  94.0  \n"
     ]
    }
   ],
   "source": [
    "company_statistics = regiment.groupby('company').describe()\n",
    "print(\"Statistics by Company = \",company_statistics)"
   ]
  },
  {
   "cell_type": "markdown",
   "metadata": {},
   "source": [
    "### Step 6. What is the mean of each company's preTestScore?"
   ]
  },
  {
   "cell_type": "code",
   "execution_count": 6,
   "metadata": {},
   "outputs": [
    {
     "name": "stdout",
     "output_type": "stream",
     "text": [
      "Mean preTestScore by Company =  company\n",
      "1st     6.666667\n",
      "2nd    15.500000\n",
      "Name: preTestScore, dtype: float64\n"
     ]
    }
   ],
   "source": [
    "mean_preTestScore_company = regiment.groupby('company')['preTestScore'].mean()\n",
    "print(\"Mean preTestScore by Company = \",mean_preTestScore_company)"
   ]
  },
  {
   "cell_type": "markdown",
   "metadata": {},
   "source": [
    "### Step 7. Present the mean preTestScores grouped by regiment and company"
   ]
  },
  {
   "cell_type": "code",
   "execution_count": 8,
   "metadata": {},
   "outputs": [
    {
     "name": "stdout",
     "output_type": "stream",
     "text": [
      "Mean Regiment and Company =  regiment    company\n",
      "Dragoons    1st         3.5\n",
      "            2nd        27.5\n",
      "Nighthawks  1st        14.0\n",
      "            2nd        16.5\n",
      "Scouts      1st         2.5\n",
      "            2nd         2.5\n",
      "Name: preTestScore, dtype: float64\n"
     ]
    }
   ],
   "source": [
    "mean_preTestScores_regiment_company = regiment.groupby(['regiment', 'company'])['preTestScore'].mean()\n",
    "print(\"Mean Regiment and Company = \",mean_preTestScores_regiment_company)"
   ]
  },
  {
   "cell_type": "markdown",
   "metadata": {},
   "source": [
    "### Step 8. Present the mean preTestScores grouped by regiment and company without heirarchical indexing"
   ]
  },
  {
   "cell_type": "code",
   "execution_count": 10,
   "metadata": {},
   "outputs": [
    {
     "name": "stdout",
     "output_type": "stream",
     "text": [
      "Mean preTestScores Regiment and Company without hierarchical =       regiment company  preTestScore\n",
      "0    Dragoons     1st           3.5\n",
      "1    Dragoons     2nd          27.5\n",
      "2  Nighthawks     1st          14.0\n",
      "3  Nighthawks     2nd          16.5\n",
      "4      Scouts     1st           2.5\n",
      "5      Scouts     2nd           2.5\n"
     ]
    }
   ],
   "source": [
    "mean_preTestScores_company_reset = mean_preTestScores_regiment_company.reset_index()\n",
    "print(\"Mean preTestScores Regiment and Company without hierarchical = \",mean_preTestScores_company_reset)"
   ]
  },
  {
   "cell_type": "markdown",
   "metadata": {},
   "source": [
    "### Step 9. Group the entire dataframe by regiment and company"
   ]
  },
  {
   "cell_type": "code",
   "execution_count": 12,
   "metadata": {},
   "outputs": [],
   "source": [
    "grouped_data = regiment.groupby(['regiment', 'company'])"
   ]
  },
  {
   "cell_type": "markdown",
   "metadata": {},
   "source": [
    "### Step 10. What is the number of observations in each regiment and company"
   ]
  },
  {
   "cell_type": "code",
   "execution_count": 15,
   "metadata": {},
   "outputs": [
    {
     "name": "stdout",
     "output_type": "stream",
     "text": [
      "Number of Observations Regiment,Company =  regiment    company\n",
      "Dragoons    1st        2\n",
      "            2nd        2\n",
      "Nighthawks  1st        2\n",
      "            2nd        2\n",
      "Scouts      1st        2\n",
      "            2nd        2\n",
      "dtype: int64\n"
     ]
    }
   ],
   "source": [
    "obscounts = grouped_data.size()\n",
    "print(\"Number of Observations Regiment,Company = \",obscounts)"
   ]
  },
  {
   "cell_type": "markdown",
   "metadata": {},
   "source": [
    "### Step 11. Iterate over a group and print the name and the whole data from the regiment"
   ]
  },
  {
   "cell_type": "code",
   "execution_count": 16,
   "metadata": {},
   "outputs": [
    {
     "name": "stdout",
     "output_type": "stream",
     "text": [
      "\n",
      "Regiment and Company: ('Dragoons', '1st')\n",
      "   regiment company   name  preTestScore  postTestScore\n",
      "4  Dragoons     1st  Cooze             3             70\n",
      "5  Dragoons     1st  Jacon             4             25\n",
      "\n",
      "Regiment and Company: ('Dragoons', '2nd')\n",
      "   regiment company    name  preTestScore  postTestScore\n",
      "6  Dragoons     2nd  Ryaner            24             94\n",
      "7  Dragoons     2nd    Sone            31             57\n",
      "\n",
      "Regiment and Company: ('Nighthawks', '1st')\n",
      "     regiment company      name  preTestScore  postTestScore\n",
      "0  Nighthawks     1st    Miller             4             25\n",
      "1  Nighthawks     1st  Jacobson            24             94\n",
      "\n",
      "Regiment and Company: ('Nighthawks', '2nd')\n",
      "     regiment company    name  preTestScore  postTestScore\n",
      "2  Nighthawks     2nd     Ali            31             57\n",
      "3  Nighthawks     2nd  Milner             2             62\n",
      "\n",
      "Regiment and Company: ('Scouts', '1st')\n",
      "  regiment company   name  preTestScore  postTestScore\n",
      "8   Scouts     1st  Sloan             2             62\n",
      "9   Scouts     1st  Piger             3             70\n",
      "\n",
      "Regiment and Company: ('Scouts', '2nd')\n",
      "   regiment company   name  preTestScore  postTestScore\n",
      "10   Scouts     2nd  Riani             2             62\n",
      "11   Scouts     2nd    Ali             3             70\n"
     ]
    }
   ],
   "source": [
    "for name, group in grouped_data:\n",
    "    print(f\"\\nRegiment and Company: {name}\")\n",
    "    print(group)"
   ]
  },
  {
   "cell_type": "code",
   "execution_count": null,
   "metadata": {},
   "outputs": [],
   "source": []
  }
 ],
 "metadata": {
  "kernelspec": {
   "display_name": "Python 3 (ipykernel)",
   "language": "python",
   "name": "python3"
  },
  "language_info": {
   "codemirror_mode": {
    "name": "ipython",
    "version": 3
   },
   "file_extension": ".py",
   "mimetype": "text/x-python",
   "name": "python",
   "nbconvert_exporter": "python",
   "pygments_lexer": "ipython3",
   "version": "3.11.3"
  }
 },
 "nbformat": 4,
 "nbformat_minor": 1
}
