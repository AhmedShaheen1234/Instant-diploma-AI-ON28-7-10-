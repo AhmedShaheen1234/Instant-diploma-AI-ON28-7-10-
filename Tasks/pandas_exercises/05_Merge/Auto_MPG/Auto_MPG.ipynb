{
 "cells": [
  {
   "cell_type": "markdown",
   "metadata": {},
   "source": [
    "# MPG Cars"
   ]
  },
  {
   "cell_type": "markdown",
   "metadata": {},
   "source": [
    "### Introduction:\n",
    "\n",
    "The following exercise utilizes data from [UC Irvine Machine Learning Repository](https://archive.ics.uci.edu/ml/datasets/Auto+MPG)\n",
    "\n",
    "### Step 1. Import the necessary libraries"
   ]
  },
  {
   "cell_type": "code",
   "execution_count": 9,
   "metadata": {},
   "outputs": [],
   "source": [
    "import pandas as pd\n",
    "import random"
   ]
  },
  {
   "cell_type": "markdown",
   "metadata": {},
   "source": [
    "### Step 2. Import the first dataset [cars1](https://raw.githubusercontent.com/guipsamora/pandas_exercises/master/05_Merge/Auto_MPG/cars1.csv) and [cars2](https://raw.githubusercontent.com/guipsamora/pandas_exercises/master/05_Merge/Auto_MPG/cars2.csv).  "
   ]
  },
  {
   "cell_type": "code",
   "execution_count": 4,
   "metadata": {},
   "outputs": [],
   "source": [
    "cars1_url = \"https://raw.githubusercontent.com/guipsamora/pandas_exercises/master/05_Merge/Auto_MPG/cars1.csv\"\n",
    "cars2_url = \"https://raw.githubusercontent.com/guipsamora/pandas_exercises/master/05_Merge/Auto_MPG/cars2.csv\""
   ]
  },
  {
   "cell_type": "markdown",
   "metadata": {},
   "source": [
    "   ### Step 3. Assign each to a variable called cars1 and cars2"
   ]
  },
  {
   "cell_type": "code",
   "execution_count": 5,
   "metadata": {},
   "outputs": [],
   "source": [
    "cars1 = pd.read_csv(cars1_url)\n",
    "cars2 = pd.read_csv(cars2_url)"
   ]
  },
  {
   "cell_type": "markdown",
   "metadata": {},
   "source": [
    "### Step 4. Oops, it seems our first dataset has some unnamed blank columns, fix cars1"
   ]
  },
  {
   "cell_type": "code",
   "execution_count": null,
   "metadata": {},
   "outputs": [],
   "source": [
    "cars1 = cars1.loc[:, \"mpg\":\"car\"]"
   ]
  },
  {
   "cell_type": "markdown",
   "metadata": {},
   "source": [
    "### Step 5. What is the number of observations in each dataset?"
   ]
  },
  {
   "cell_type": "code",
   "execution_count": 6,
   "metadata": {},
   "outputs": [
    {
     "name": "stdout",
     "output_type": "stream",
     "text": [
      "Number of Observations cars1 =  198\n",
      "Number of Observations cars2 =  200\n"
     ]
    }
   ],
   "source": [
    "observations_cars1 = cars1.shape[0]\n",
    "observations_cars2 = cars2.shape[0]\n",
    "print(\"Number of Observations cars1 = \",observations_cars1)\n",
    "print(\"Number of Observations cars2 = \",observations_cars2)"
   ]
  },
  {
   "cell_type": "markdown",
   "metadata": {},
   "source": [
    "### Step 6. Join cars1 and cars2 into a single DataFrame called cars"
   ]
  },
  {
   "cell_type": "code",
   "execution_count": 7,
   "metadata": {},
   "outputs": [],
   "source": [
    "cars = pd.concat([cars1, cars2], ignore_index=True)"
   ]
  },
  {
   "cell_type": "markdown",
   "metadata": {},
   "source": [
    "### Step 7. Oops, there is a column missing, called owners. Create a random number Series from 15,000 to 73,000."
   ]
  },
  {
   "cell_type": "code",
   "execution_count": 10,
   "metadata": {},
   "outputs": [],
   "source": [
    "owners = pd.Series([random.randint(15000, 73000) for _ in range(len(cars))], name='owners')"
   ]
  },
  {
   "cell_type": "markdown",
   "metadata": {},
   "source": [
    "### Step 8. Add the column owners to cars"
   ]
  },
  {
   "cell_type": "code",
   "execution_count": 11,
   "metadata": {},
   "outputs": [
    {
     "name": "stdout",
     "output_type": "stream",
     "text": [
      "DataFramewith owners : \n",
      "      mpg  cylinders  displacement horsepower  weight  acceleration  model  \\\n",
      "0    18.0          8           307        130    3504          12.0     70   \n",
      "1    15.0          8           350        165    3693          11.5     70   \n",
      "2    18.0          8           318        150    3436          11.0     70   \n",
      "3    16.0          8           304        150    3433          12.0     70   \n",
      "4    17.0          8           302        140    3449          10.5     70   \n",
      "..    ...        ...           ...        ...     ...           ...    ...   \n",
      "393  27.0          4           140         86    2790          15.6     82   \n",
      "394  44.0          4            97         52    2130          24.6     82   \n",
      "395  32.0          4           135         84    2295          11.6     82   \n",
      "396  28.0          4           120         79    2625          18.6     82   \n",
      "397  31.0          4           119         82    2720          19.4     82   \n",
      "\n",
      "     origin                        car  Unnamed: 9  Unnamed: 10  Unnamed: 11  \\\n",
      "0         1  chevrolet chevelle malibu         NaN          NaN          NaN   \n",
      "1         1          buick skylark 320         NaN          NaN          NaN   \n",
      "2         1         plymouth satellite         NaN          NaN          NaN   \n",
      "3         1              amc rebel sst         NaN          NaN          NaN   \n",
      "4         1                ford torino         NaN          NaN          NaN   \n",
      "..      ...                        ...         ...          ...          ...   \n",
      "393       1            ford mustang gl         NaN          NaN          NaN   \n",
      "394       2                  vw pickup         NaN          NaN          NaN   \n",
      "395       1              dodge rampage         NaN          NaN          NaN   \n",
      "396       1                ford ranger         NaN          NaN          NaN   \n",
      "397       1                 chevy s-10         NaN          NaN          NaN   \n",
      "\n",
      "     Unnamed: 12  Unnamed: 13  owners  \n",
      "0            NaN          NaN   41476  \n",
      "1            NaN          NaN   37040  \n",
      "2            NaN          NaN   27364  \n",
      "3            NaN          NaN   39687  \n",
      "4            NaN          NaN   21319  \n",
      "..           ...          ...     ...  \n",
      "393          NaN          NaN   19088  \n",
      "394          NaN          NaN   69329  \n",
      "395          NaN          NaN   18694  \n",
      "396          NaN          NaN   26785  \n",
      "397          NaN          NaN   45105  \n",
      "\n",
      "[398 rows x 15 columns]\n"
     ]
    }
   ],
   "source": [
    "cars['owners'] = owners\n",
    "print(\"DataFramewith owners : \")\n",
    "print(cars)"
   ]
  },
  {
   "cell_type": "code",
   "execution_count": null,
   "metadata": {},
   "outputs": [],
   "source": []
  }
 ],
 "metadata": {
  "anaconda-cloud": {},
  "kernelspec": {
   "display_name": "Python 3 (ipykernel)",
   "language": "python",
   "name": "python3"
  },
  "language_info": {
   "codemirror_mode": {
    "name": "ipython",
    "version": 3
   },
   "file_extension": ".py",
   "mimetype": "text/x-python",
   "name": "python",
   "nbconvert_exporter": "python",
   "pygments_lexer": "ipython3",
   "version": "3.11.3"
  }
 },
 "nbformat": 4,
 "nbformat_minor": 1
}
