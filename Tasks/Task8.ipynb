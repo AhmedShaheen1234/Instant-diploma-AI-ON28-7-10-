{
 "cells": [
  {
   "cell_type": "code",
   "execution_count": 2,
   "id": "1d5bf37b",
   "metadata": {},
   "outputs": [
    {
     "name": "stdout",
     "output_type": "stream",
     "text": [
      "The name =  ['Ahmed Hafez', 'Ali Osama']\n",
      "The number =  ['0102345678', '0124342342']\n",
      "The email = ['ahmed@gmail.com', 'ali@gmail.com']\n",
      "The name =  ['Ahmed Hafez', 'Ali Osama']\n",
      "The number =  ['0102345678', '0124342342']\n",
      "The email = ['ahmed@gmail.com', 'ali@gmail.com']\n"
     ]
    }
   ],
   "source": [
    "#f = open(\"C:\\\\Users\\\\HUAWEI\\\\Desktop\\\\her\\\\task.txt\",\"r\")\n",
    "#f.write(\"Ahmed Hafez 0102345678 ahmed@gmail.com\\nAli Osama 0124342342 ali@gmail.com\")#that will remove any thing in file\n",
    "#deat = f.read()\n",
    "name_list = []\n",
    "phone_list = []\n",
    "email_list = []\n",
    "with open(\"C:\\\\Users\\\\HUAWEI\\\\Desktop\\\\her\\\\task.txt\", \"r\") as file:\n",
    "    lines = file.readlines()\n",
    "    for line in lines:\n",
    "        parts = line.strip().split()\n",
    "        name = \" \".join(parts[:-2])\n",
    "        phone = parts[-2]\n",
    "        email = parts[-1]     \n",
    "        name_list.append(name)\n",
    "        phone_list.append(phone)\n",
    "        email_list.append(email)\n",
    "print(\"The name = \", name_list)\n",
    "print(\"The number = \", phone_list)\n",
    "print(\"The email =\",email_list)\n",
    "#f.close()\n",
    "\n",
    "\n",
    "\n",
    "#for advanced task \n",
    "Advance_name_list = []\n",
    "Advance_phone_list = []\n",
    "Advance_email_list = []\n",
    "with open(\"C:\\\\Users\\\\HUAWEI\\\\Desktop\\\\her\\\\taskadvanced.txt\", \"r\") as file:\n",
    "    lines = file.readlines()\n",
    "    for line in lines:\n",
    "        parts = line.strip().split()\n",
    "        name = \"\"\n",
    "        phone = \"\"\n",
    "        email = \"\"\n",
    "        for part in parts:\n",
    "            if \"@\" in part:\n",
    "                email = part\n",
    "            elif part.isdigit():\n",
    "                phone = part\n",
    "            else:\n",
    "                name += part + \" \"\n",
    "        name = name.strip()\n",
    "        if name:\n",
    "            Advance_name_list.append(name)\n",
    "        if email:\n",
    "            Advance_email_list.append(email)\n",
    "        if phone:\n",
    "            Advance_phone_list.append(phone)\n",
    "print(\"The name = \", Advance_name_list)\n",
    "print(\"The number = \", Advance_phone_list)\n",
    "print(\"The email =\", Advance_email_list)"
   ]
  },
  {
   "cell_type": "code",
   "execution_count": null,
   "id": "99518c1c",
   "metadata": {},
   "outputs": [],
   "source": []
  }
 ],
 "metadata": {
  "kernelspec": {
   "display_name": "Python 3 (ipykernel)",
   "language": "python",
   "name": "python3"
  },
  "language_info": {
   "codemirror_mode": {
    "name": "ipython",
    "version": 3
   },
   "file_extension": ".py",
   "mimetype": "text/x-python",
   "name": "python",
   "nbconvert_exporter": "python",
   "pygments_lexer": "ipython3",
   "version": "3.11.3"
  }
 },
 "nbformat": 4,
 "nbformat_minor": 5
}
