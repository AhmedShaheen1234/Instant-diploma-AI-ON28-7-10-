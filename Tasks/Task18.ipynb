{
 "cells": [
  {
   "cell_type": "code",
   "execution_count": 2,
   "id": "60ebe0ba",
   "metadata": {},
   "outputs": [
    {
     "name": "stdout",
     "output_type": "stream",
     "text": [
      "   A  B\n",
      "x  1  4\n",
      "y  2  5\n",
      "z  3  6\n",
      "   A  B\n",
      "x  1  4\n",
      "y  2  5\n",
      "z  3  6\n"
     ]
    }
   ],
   "source": [
    "#Q1\n",
    "\n",
    "import pandas as pd\n",
    "\n",
    "data = {'A': [1, 2, 3], 'B': [4, 5, 6]}\n",
    "index = ['x', 'y', 'z']\n",
    "         \n",
    "df = pd.DataFrame(data, index=index)\n",
    "df_sorted_by_index = df.sort_index()\n",
    "print(df_sorted_by_index)\n",
    "\n",
    "# column\n",
    "df_sorted_by_column = df.sort_values(by='A')\n",
    "\n",
    "print(df_sorted_by_column)"
   ]
  },
  {
   "cell_type": "code",
   "execution_count": 17,
   "id": "b204c397",
   "metadata": {},
   "outputs": [
    {
     "name": "stdout",
     "output_type": "stream",
     "text": [
      "[1, 4, 9, 16, 25]\n"
     ]
    }
   ],
   "source": [
    "#Q2\n",
    "\n",
    "#lambda expression, also known as a lambda function or anonymous function, \n",
    "#is a concise way to create small, anonymous, and inline functions in programming languages \n",
    "#that support functional programming concepts. Lambda expressions are particularly common in languages like Python,JavaScript. \n",
    "#They are often used for one-time or simple operations where you don't want to define a separate named function.\n",
    "\n",
    "#EX:\n",
    "numbers = [1, 2, 3, 4, 5]\n",
    "squared_numbers = list(map(lambda x: x * x, numbers))\n",
    "print(squared_numbers)  "
   ]
  },
  {
   "cell_type": "code",
   "execution_count": 13,
   "id": "91c55fc5",
   "metadata": {},
   "outputs": [
    {
     "name": "stdout",
     "output_type": "stream",
     "text": [
      "\n",
      "DataFrame with Outliers Removed:\n",
      "    A   B\n",
      "0  10  25\n",
      "1  15  30\n",
      "2  12  28\n",
      "3  14  35\n",
      "4  18  38\n",
      "6   8  20\n",
      "7   6  22\n",
      "8   9  26\n",
      "9  11  27\n"
     ]
    }
   ],
   "source": [
    "#Q3\n",
    "\n",
    "import pandas as pd\n",
    "import numpy as np\n",
    "from scipy import stats\n",
    "\n",
    "data = {\n",
    "        'A': [10, 15, 12, 14, 18, 40, 8, 6, 9, 11],\n",
    "        'B': [25, 30, 28, 35, 38, 90, 20, 22, 26, 27]\n",
    "       }\n",
    "df = pd.DataFrame(data)\n",
    "\n",
    "z_scores = np.abs(stats.zscore(df))\n",
    "#outliers\n",
    "threshold = 2.5\n",
    "outlier_mask = (z_scores > threshold).any(axis=1)\n",
    "#outliers removed\n",
    "df_no_outliers = df[~outlier_mask]\n",
    "\n",
    "# Display the DataFrame with outliers removed\n",
    "print(\"\\nDataFrame with Outliers Removed:\")\n",
    "print(df_no_outliers)\n"
   ]
  },
  {
   "cell_type": "code",
   "execution_count": 14,
   "id": "687f638e",
   "metadata": {},
   "outputs": [
    {
     "name": "stdout",
     "output_type": "stream",
     "text": [
      "Randomly selected rows:\n",
      "   A  B\n",
      "1  2  b\n",
      "4  5  e\n",
      "2  3  c\n"
     ]
    }
   ],
   "source": [
    "#Q4\n",
    "\n",
    "import pandas as pd\n",
    "\n",
    "data = {'A': [1, 2, 3, 4, 5],\n",
    "        'B': ['a', 'b', 'c', 'd', 'e']}\n",
    "df = pd.DataFrame(data)\n",
    "\n",
    "seed = 42\n",
    "df_sampled = df.sample(n=3, random_state=seed)\n",
    "\n",
    "# Display the randomly selected rows\n",
    "print(\"Randomly selected rows:\")\n",
    "print(df_sampled)\n"
   ]
  },
  {
   "cell_type": "code",
   "execution_count": 15,
   "id": "88bd5e6a",
   "metadata": {},
   "outputs": [
    {
     "name": "stdout",
     "output_type": "stream",
     "text": [
      "    A   B\n",
      "0   1   3\n",
      "1   2   4\n",
      "0   5   7\n",
      "1   6   8\n",
      "0   9  11\n",
      "1  10  12\n"
     ]
    }
   ],
   "source": [
    "#Q5\n",
    "\n",
    "import pandas as pd\n",
    "\n",
    "# Create three sample DataFrames\n",
    "df1 = pd.DataFrame({'A': [1, 2], 'B': [3, 4]})\n",
    "df2 = pd.DataFrame({'A': [5, 6], 'B': [7, 8]})\n",
    "df3 = pd.DataFrame({'A': [9, 10], 'B': [11, 12]})\n",
    "\n",
    "# Concatenate vertically\n",
    "result = pd.concat([df1, df2, df3], axis=0)\n",
    "\n",
    "print(result)\n"
   ]
  },
  {
   "cell_type": "code",
   "execution_count": 9,
   "id": "17c3ccf6",
   "metadata": {},
   "outputs": [
    {
     "name": "stdout",
     "output_type": "stream",
     "text": [
      "\n",
      "DataFrame with Replaced Values:\n",
      "    A  B   C\n",
      "0   1  5   X\n",
      "1   2  4   Y\n",
      "2  99  3  99\n",
      "3   4  2   Z\n",
      "4   5  1   X\n"
     ]
    }
   ],
   "source": [
    "#Q6\n",
    "\n",
    "import pandas as pd\n",
    "data = {'A': [1, 2, 3, 4, 5],\n",
    "        'B': [5, 4, 3, 2, 1],\n",
    "        'C': ['X', 'Y', 'X', 'Z', 'X']}\n",
    "df = pd.DataFrame(data)\n",
    "\n",
    "old_value = 3\n",
    "new_value = 99\n",
    "columns_to_replace = ['A', 'C']\n",
    "\n",
    "df.loc[df['A'] == old_value, columns_to_replace] = new_value\n",
    "\n",
    "print(\"\\nDataFrame with Replaced Values:\")\n",
    "print(df)\n"
   ]
  },
  {
   "cell_type": "code",
   "execution_count": null,
   "id": "e84e5294",
   "metadata": {},
   "outputs": [],
   "source": [
    "#Q7\n",
    "\n",
    "import pandas as pd\n",
    "\n",
    "# Create two sample DataFrames\n",
    "data1 = {'A': [1, 2, 3, 4],\n",
    "         'B': [5, 6, 7, 8]}\n",
    "data2 = {'X': ['a', 'b', 'c', 'd'],\n",
    "         'Y': ['e', 'f', 'g', 'h']}\n",
    "df1 = pd.DataFrame(data1)\n",
    "df2 = pd.DataFrame(data2)\n",
    "\n",
    "# Specify the Excel file path\n",
    "excel_file = 'C:\\\\Users\\\\HUAWEI\\\\Desktop\\\\fff\\\\two_sheets.xlsx'\n",
    "\n",
    "with pd.ExcelWriter(excel_file, engine='xlsxwriter') as writer:\n",
    "    df1.to_excel(writer, sheet_name='Sheet1', index=False)\n",
    "    df2.to_excel(writer, sheet_name='Sheet2', index=False)\n",
    "\n",
    "print(f\"Data written to {excel_file}\")\n"
   ]
  },
  {
   "cell_type": "code",
   "execution_count": null,
   "id": "b0310247",
   "metadata": {},
   "outputs": [],
   "source": []
  }
 ],
 "metadata": {
  "kernelspec": {
   "display_name": "Python 3 (ipykernel)",
   "language": "python",
   "name": "python3"
  },
  "language_info": {
   "codemirror_mode": {
    "name": "ipython",
    "version": 3
   },
   "file_extension": ".py",
   "mimetype": "text/x-python",
   "name": "python",
   "nbconvert_exporter": "python",
   "pygments_lexer": "ipython3",
   "version": "3.11.3"
  }
 },
 "nbformat": 4,
 "nbformat_minor": 5
}
