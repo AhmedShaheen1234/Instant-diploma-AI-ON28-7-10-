{
 "cells": [
  {
   "cell_type": "markdown",
   "id": "759d04ba",
   "metadata": {},
   "source": [
    "**1-Write a Python program to calculate the length of a string using 2 ways"
   ]
  },
  {
   "cell_type": "code",
   "execution_count": 1,
   "id": "e434c950",
   "metadata": {},
   "outputs": [
    {
     "name": "stdout",
     "output_type": "stream",
     "text": [
      "please enter a string: dd\n",
      "the length of the string is =  2\n",
      "second way to length =  2\n"
     ]
    }
   ],
   "source": [
    "string = input(\"please enter a string: \")\n",
    "print(\"the length of the string is = \",len(string))\n",
    "length = 0;\n",
    "for x in string:\n",
    "    length+=1;\n",
    "print(\"second way to length = \",length)"
   ]
  },
  {
   "cell_type": "code",
   "execution_count": null,
   "id": "7a2dfa32",
   "metadata": {},
   "outputs": [],
   "source": []
  },
  {
   "cell_type": "markdown",
   "id": "d7cc9da7",
   "metadata": {},
   "source": [
    "**2-Write a Python program to get a string made of the first 2 and last 2 characters of a given string. If the string length is less than 2, return the empty string instead (\"##Sample String : 'w3resource'\n",
    "Expected Result : 'w3ce'\n",
    "##Sample String : 'w3'\n",
    "Expected Result : 'w3w3'\n",
    "##Sample String : ' w'\n",
    "Expected Result : Empty String)"
   ]
  },
  {
   "cell_type": "code",
   "execution_count": 2,
   "id": "dafa9dd8",
   "metadata": {},
   "outputs": [
    {
     "name": "stdout",
     "output_type": "stream",
     "text": [
      "please enter a string: df\n",
      "the string =  dfdf\n"
     ]
    }
   ],
   "source": [
    "string = input(\"please enter a string: \")\n",
    "concat = \"\"\n",
    "if len(string) < 2:\n",
    "    print(\"Empty string\")\n",
    "else:\n",
    "    concat+= string[0] + string[1] + string[len(string)-2] + string[len(string)-1]\n",
    "    print(\"the string = \",concat)"
   ]
  },
  {
   "cell_type": "markdown",
   "id": "1534f956",
   "metadata": {},
   "source": [
    "**3-Write a Python program to add 'ing' at the end of a given string (length should be at least 3). If the given string already ends with 'ing', add 'ly' instead. If the string length of the given string is less than 3, leave it unchanged. (Sample String : 'abc'\n",
    "Expected Result : 'abcing')"
   ]
  },
  {
   "cell_type": "code",
   "execution_count": null,
   "id": "7ff8cec4",
   "metadata": {},
   "outputs": [],
   "source": [
    "string = input(\"please enter a string: \")\n",
    "if len(string) < 3:\n",
    "    print(\"the string = \",string)\n",
    "else:\n",
    "    if(string[-3::] == \"ing\"):\n",
    "        string = string.replace(\"ing\",\"ly\")\n",
    "    else:\n",
    "        string+= \"ing\"\n",
    "    print(\"The string = \",string)"
   ]
  },
  {
   "cell_type": "markdown",
   "id": "1c0a6627",
   "metadata": {},
   "source": [
    "**4-Write a Python function that takes a list of words and return the longest word and the length of the longest one\n",
    "(Longest word: Exercises\n",
    "Length of the longest word: 9)"
   ]
  },
  {
   "cell_type": "code",
   "execution_count": 3,
   "id": "397341d9",
   "metadata": {},
   "outputs": [
    {
     "name": "stdout",
     "output_type": "stream",
     "text": [
      "The longest word is:  khaled and the length is =  6\n"
     ]
    }
   ],
   "source": [
    "list = [\"Ahmed\",\"Aly\",\"Omar\",\"khaled\"]\n",
    "def longest(list):\n",
    "    cost = 0\n",
    "    word = \"\"\n",
    "    for x in list:\n",
    "        if cost < len(x):\n",
    "            cost = len(x)\n",
    "            word = x\n",
    "    print(\"The longest word is: \",word + \" and the length is = \",cost)\n",
    "longest(list)"
   ]
  },
  {
   "cell_type": "markdown",
   "id": "53a03a6a",
   "metadata": {},
   "source": [
    "**5-Write a Python program to change a given string to a newly string where the first and last chars have been exchanged using 2 ways (Sample String:abca  Expected Result:ebce)"
   ]
  },
  {
   "cell_type": "code",
   "execution_count": 4,
   "id": "fd327d2a",
   "metadata": {},
   "outputs": [
    {
     "name": "stdout",
     "output_type": "stream",
     "text": [
      "First way by use function def: \n",
      "hvbfgc\n",
      "second way :\n",
      "hvbfgc\n"
     ]
    }
   ],
   "source": [
    "print(\"First way by use function def: \")\n",
    "def change(string):\n",
    "    return string[-1] + string[1:-1] + string[:1]\n",
    "print(change('cvbfgh'))\n",
    "print(\"second way :\")\n",
    "way2 = \"cvbfgh\"\n",
    "first = way2[0]\n",
    "last = way2[-1]\n",
    "final = last + way2[1:-1] + first\n",
    "print(final)"
   ]
  },
  {
   "cell_type": "code",
   "execution_count": null,
   "id": "285788b4",
   "metadata": {},
   "outputs": [],
   "source": []
  },
  {
   "cell_type": "markdown",
   "id": "25f89808",
   "metadata": {},
   "source": [
    "**6-Write a Python program to remove characters that have odd index values in a given string (Sample String:abca Expected Result:ac)"
   ]
  },
  {
   "cell_type": "code",
   "execution_count": null,
   "id": "05959bd7",
   "metadata": {},
   "outputs": [],
   "source": [
    "def remove_odd(string):\n",
    "  finalword = \"\"\n",
    "  for x in range(len(string)):\n",
    "    if x % 2 == 0:\n",
    "      finalword += string[x]\n",
    "  return finalword\n",
    "print(\"The result of word after remove odd = \",remove_odd('abcd'))"
   ]
  },
  {
   "cell_type": "markdown",
   "id": "eb16e898",
   "metadata": {},
   "source": [
    "**7-Write a Python program to count the occurrences of each word in a given sentence (Sample String:amr and ahmed are frindes but amr is the tallest Expected Result:2)"
   ]
  },
  {
   "cell_type": "code",
   "execution_count": null,
   "id": "01ce6cf5",
   "metadata": {},
   "outputs": [],
   "source": [
    "string = input(\"Enter a statment to count the word: \")\n",
    "def word_count(str):\n",
    "    count = dict()\n",
    "    word = str.split()\n",
    "    for x in word:\n",
    "        if x in count:\n",
    "            count[x] += 1\n",
    "        else:\n",
    "            count[x] = 1\n",
    "    return count\n",
    "print( word_count(string))"
   ]
  },
  {
   "cell_type": "markdown",
   "id": "4e8125f1",
   "metadata": {},
   "source": [
    "**8-Write a Python script that takes input from the user and displays that input back in upper and lower cases"
   ]
  },
  {
   "cell_type": "code",
   "execution_count": null,
   "id": "66c8f778",
   "metadata": {},
   "outputs": [],
   "source": [
    "string = input(\"please enter a string: \")\n",
    "print(\"The string in Uppercase = \",string.upper() +\"\\n The string in Lower = \",string.lower())"
   ]
  },
  {
   "cell_type": "markdown",
   "id": "fcd68aa1",
   "metadata": {},
   "source": [
    "**9-Write a Python function to reverse a string if its length is a multiple of 4"
   ]
  },
  {
   "cell_type": "code",
   "execution_count": null,
   "id": "0671a931",
   "metadata": {},
   "outputs": [],
   "source": [
    "def reverse(string):\n",
    "    word = \"\"\n",
    "    if len(string) % 4 == 0:\n",
    "       word = ''.join(reversed(string))\n",
    "       return word\n",
    "    else:\n",
    "        return string\n",
    "print(\"The result after revers = \",reverse('abcde'))"
   ]
  },
  {
   "cell_type": "markdown",
   "id": "b577c68d",
   "metadata": {},
   "source": [
    "**10- Write a Python program to remove a newline in Python"
   ]
  },
  {
   "cell_type": "code",
   "execution_count": null,
   "id": "e0c6525a",
   "metadata": {},
   "outputs": [],
   "source": [
    "string='Ahmed\\nwhy?'\n",
    "finalstring = string.replace('\\n',\" \")\n",
    "print(\"The word after remove line = \",finalstring)"
   ]
  },
  {
   "cell_type": "markdown",
   "id": "80db5ae0",
   "metadata": {},
   "source": [
    "**11-Write a Python program to check whether a string starts with specified characters"
   ]
  },
  {
   "cell_type": "code",
   "execution_count": null,
   "id": "0cc4e03e",
   "metadata": {},
   "outputs": [],
   "source": [
    "string = input(\"please enter a string: \")\n",
    "if string.startswith(\"A\"):\n",
    "    print(\"It's correct\")\n",
    "else:\n",
    "    print(\"Is not correct\")"
   ]
  },
  {
   "cell_type": "markdown",
   "id": "593a68db",
   "metadata": {},
   "source": [
    "**12- Write a Python program to add prefix text to all of the lines in a string"
   ]
  },
  {
   "cell_type": "code",
   "execution_count": null,
   "id": "d2e46ada",
   "metadata": {},
   "outputs": [],
   "source": [
    "string = \"\"\"line 1.\n",
    "line 2.\n",
    "line 3.\"\"\"\n",
    "prefix = \"Prefix: \"\n",
    "finalstring = prefix + (\"\\n\" + prefix).join(string.splitlines())\n",
    "print(finalstring)"
   ]
  },
  {
   "cell_type": "markdown",
   "id": "86fa1543",
   "metadata": {},
   "source": [
    "**13-Write a Python program to print the following numbers up to 2 decimal places"
   ]
  },
  {
   "cell_type": "code",
   "execution_count": null,
   "id": "cd4a9d89",
   "metadata": {},
   "outputs": [],
   "source": [
    "x = 16.999\n",
    "c = \"{:.2f}\".format(x)\n",
    "print(\"After formatt = \",c)"
   ]
  },
  {
   "cell_type": "markdown",
   "id": "452c0ab0",
   "metadata": {},
   "source": [
    "**14-Write a Python program to print the following numbers up to 2 decimal places with a sign"
   ]
  },
  {
   "cell_type": "code",
   "execution_count": null,
   "id": "73e82479",
   "metadata": {},
   "outputs": [],
   "source": [
    "x = 16.999\n",
    "c = \"{:+.2f}\".format(x)\n",
    "print(\"After formatt = \",c)"
   ]
  },
  {
   "cell_type": "markdown",
   "id": "32b1811a",
   "metadata": {},
   "source": [
    "**15-Write a Python program to display a number with a comma separator"
   ]
  },
  {
   "cell_type": "code",
   "execution_count": null,
   "id": "f30fc0b6",
   "metadata": {},
   "outputs": [],
   "source": [
    "x = 9000000\n",
    "c = \"{:,}\".format(x)\n",
    "print(\"The number with comma = \",c)"
   ]
  },
  {
   "cell_type": "markdown",
   "id": "0477f487",
   "metadata": {},
   "source": [
    "**16-Write a Python program to reverse a string using 2 ways"
   ]
  },
  {
   "cell_type": "code",
   "execution_count": null,
   "id": "aa8beec8",
   "metadata": {},
   "outputs": [],
   "source": [
    "string = input(\"please enter a string: \")\n",
    "length = len(string)-1\n",
    "index = \"\"\n",
    "for x in range(length,-1,-1):\n",
    "    index += string[x]\n",
    "print(\"First way = \",index)\n",
    "print(\"Second way = \",string[::-1])"
   ]
  },
  {
   "cell_type": "markdown",
   "id": "5afc3166",
   "metadata": {},
   "source": [
    " **17-Write a Python program to count repeated characters in a string (hint:use dictionary)"
   ]
  },
  {
   "cell_type": "code",
   "execution_count": null,
   "id": "515a469c",
   "metadata": {},
   "outputs": [],
   "source": [
    "string = input(\"Please enter a word to count char: \")\n",
    "finalfreq = {}\n",
    "for i in string:\n",
    "\tif i in finalfreq:\n",
    "\t\tfinalfreq[i]+= 1\n",
    "\telse:\n",
    "\t\tfinalfreq[i] = 1\n",
    "print(\"Count of all characters is = \",finalfreq)"
   ]
  },
  {
   "cell_type": "markdown",
   "id": "ae14e4e5",
   "metadata": {},
   "source": [
    "**18-Write a Python program to find the first non-repeating character in a given string"
   ]
  },
  {
   "cell_type": "code",
   "execution_count": null,
   "id": "d73778e5",
   "metadata": {},
   "outputs": [],
   "source": [
    "string = input(\"Please enter string to show non repeated char: \")\n",
    "length = len(string)\n",
    "count = 0\n",
    "for x in range(length):\n",
    "    count = 0\n",
    "    for i in range(length):\n",
    "        if string[x] == string[i] and x != i:\n",
    "            count = 1\n",
    "            break\n",
    "    if count == 0:\n",
    "        print(\"First non repeating character is :\", string[x])\n",
    "        break\n",
    "if count == 1:\n",
    "    print(\"No non repeating character -_-\")"
   ]
  },
  {
   "cell_type": "markdown",
   "id": "3adf5669",
   "metadata": {},
   "source": [
    "**19-Write a Python program to remove spaces from a given string"
   ]
  },
  {
   "cell_type": "code",
   "execution_count": null,
   "id": "b4f22602",
   "metadata": {},
   "outputs": [],
   "source": [
    "string = input(\"Please enter a string: \")\n",
    "def removespaces(string):\n",
    "\treturn string.replace(\" \", \"\")\n",
    "print(\"After delet spaces = \",removespaces(string))"
   ]
  },
  {
   "cell_type": "markdown",
   "id": "734de60c",
   "metadata": {},
   "source": [
    "**20-Write a Python program to count the number of non-empty substrings of a given string"
   ]
  },
  {
   "cell_type": "code",
   "execution_count": null,
   "id": "ef3f2274",
   "metadata": {},
   "outputs": [],
   "source": [
    "string = input(\"please enter a string: \")\n",
    "length = len(string)\n",
    "result = int(length * (length+1) / 2)\n",
    "print(\"The count is = \",result)"
   ]
  },
  {
   "cell_type": "markdown",
   "id": "509998e2",
   "metadata": {},
   "source": [
    "**21-write a Python program to swap first and last element of any list."
   ]
  },
  {
   "cell_type": "code",
   "execution_count": null,
   "id": "68692d7f",
   "metadata": {},
   "outputs": [],
   "source": [
    "list = [1,2,3,4,5,6]\n",
    "list[0],list[-1] = list[-1] , list[0]\n",
    "print(\"After replace = \",list)"
   ]
  },
  {
   "cell_type": "markdown",
   "id": "959e0837",
   "metadata": {},
   "source": [
    "**22-Given a list in Python and provided the positions of the elements, write a program to swap the two elements in the list. (Input : List = [23, 65, 19, 90], pos1 = 1, pos2 = 3\n",
    "Output : [19, 65, 23, 90])"
   ]
  },
  {
   "cell_type": "code",
   "execution_count": null,
   "id": "225d8c6d",
   "metadata": {},
   "outputs": [],
   "source": [
    "List1 = [23,65,19,90]\n",
    "pos1 = int(input(\"Please enter number to swap: \"))\n",
    "pos2 = int(input(\"Please enter number to swap: \"))\n",
    "n = List1[pos1]\n",
    "List1[pos1] = List1[pos2]\n",
    "List1[pos2] = n\n",
    "print(\"After swap = \",List1)"
   ]
  },
  {
   "cell_type": "markdown",
   "id": "66fc6682",
   "metadata": {},
   "source": [
    "**23- search for the all ways to know the length of the list"
   ]
  },
  {
   "cell_type": "code",
   "execution_count": null,
   "id": "25a9775c",
   "metadata": {},
   "outputs": [],
   "source": [
    "list = [1,2,3,4,5,6]\n",
    "print(\"First way = \",len(list))\n",
    "count = 0;\n",
    "for x in list:\n",
    "    count+=1\n",
    "print(\"Second way = \",count)"
   ]
  },
  {
   "cell_type": "code",
   "execution_count": 5,
   "id": "63ff8b43",
   "metadata": {},
   "outputs": [
    {
     "ename": "SyntaxError",
     "evalue": "invalid syntax (395265437.py, line 1)",
     "output_type": "error",
     "traceback": [
      "\u001b[1;36m  Cell \u001b[1;32mIn[5], line 1\u001b[1;36m\u001b[0m\n\u001b[1;33m    **24-write a Python code to find the Maximum number of list of numbers.\u001b[0m\n\u001b[1;37m    ^\u001b[0m\n\u001b[1;31mSyntaxError\u001b[0m\u001b[1;31m:\u001b[0m invalid syntax\n"
     ]
    }
   ],
   "source": [
    "**24-write a Python code to find the Maximum number of list of numbers."
   ]
  },
  {
   "cell_type": "code",
   "execution_count": null,
   "id": "15f342de",
   "metadata": {},
   "outputs": [],
   "source": [
    "list = [1,2,3,4,5,6,130,40,120,160]\n",
    "max = list[0]\n",
    "for x in list:\n",
    "    if max < x:\n",
    "        max = x\n",
    "print(\"The max element is = \",max)"
   ]
  },
  {
   "cell_type": "code",
   "execution_count": null,
   "id": "1a89b9d3",
   "metadata": {},
   "outputs": [],
   "source": [
    "**25-write a Python code to find the Minimum number of list of numbers."
   ]
  },
  {
   "cell_type": "code",
   "execution_count": null,
   "id": "21f8cbd6",
   "metadata": {},
   "outputs": [],
   "source": [
    "list = [1,2,3,4,5,6,130,40,120,160,-1]\n",
    "min = list[0]\n",
    "for x in list:\n",
    "    if min > x:\n",
    "        min = x\n",
    "print(\"The min element is = \",min)"
   ]
  },
  {
   "cell_type": "markdown",
   "id": "96822d96",
   "metadata": {},
   "source": [
    "**26-search for if an elem is existing in list"
   ]
  },
  {
   "cell_type": "code",
   "execution_count": null,
   "id": "51ca5c9a",
   "metadata": {},
   "outputs": [],
   "source": [
    "list = [1,2,3,4,5,6,130,40,120,\"Ali\",\"Ahmed\"]\n",
    "string = input(\"please enter a string or number to search: \")\n",
    "for x in list:\n",
    "    if str(x) == string:\n",
    "        print(\"Is exsist\")\n",
    "        break;\n",
    "else:\n",
    "    print(\"Not exsist\")"
   ]
  },
  {
   "cell_type": "markdown",
   "id": "d9557da7",
   "metadata": {},
   "source": [
    "**27- clear python list using different ways"
   ]
  },
  {
   "cell_type": "code",
   "execution_count": null,
   "id": "b69858a3",
   "metadata": {},
   "outputs": [],
   "source": [
    "list = [1,2,3,4,5,6,130,40,120,\"Ali\",\"Ahmed\"]\n",
    "print(\"First way = \",list.clear())\n",
    "list2 = [1,2,3,4,5,6,130,40,120,\"Ali\",\"Ahmed\"]\n",
    "del list2[:]\n",
    "print(\"Second way = \",list2)"
   ]
  },
  {
   "cell_type": "markdown",
   "id": "52160e88",
   "metadata": {},
   "source": [
    "**28-remove duplicated elements from a list"
   ]
  },
  {
   "cell_type": "code",
   "execution_count": null,
   "id": "5e362228",
   "metadata": {},
   "outputs": [],
   "source": [
    "list = [1,1,2,3,4,4,5,6]\n",
    "def dup(list):\n",
    "    final_list = []\n",
    "    for x in list:\n",
    "        if x not in final_list:\n",
    "            final_list.append(x)\n",
    "    return final_list\n",
    "print(\"The result = \",dup(list))"
   ]
  },
  {
   "cell_type": "markdown",
   "id": "282337f7",
   "metadata": {},
   "source": [
    "**29-Given list values and keys list, convert these values to key value pairs in form of list of dictionaries. (Input : test_list = [“Gfg”, 3, “is”, 8], key_list = [“name”, “id”]\n",
    "Output : [{‘name’: ‘Gfg’, ‘id’: 3}, {‘name’: ‘is’, ‘id’: 8}])"
   ]
  },
  {
   "cell_type": "code",
   "execution_count": null,
   "id": "4d4e2d28",
   "metadata": {},
   "outputs": [],
   "source": [
    "list = [\"Gfg\", 3, \"is\", 8, \"Best\", 10]\n",
    "key_list = [\"name\", \"number\"]\n",
    "length = len(list)\n",
    "final_list = []\n",
    "for idx in range(0, length, 2):\n",
    "    final_list.append({key_list[0]:list[idx], key_list[1]:list[idx + 1]})\n",
    "print(\"The list = \",final_list)"
   ]
  },
  {
   "cell_type": "markdown",
   "id": "c26b6e9f",
   "metadata": {},
   "source": [
    "**30-write a python program to count unique values inside a list using different ways"
   ]
  },
  {
   "cell_type": "code",
   "execution_count": null,
   "id": "72132667",
   "metadata": {},
   "outputs": [],
   "source": [
    "a_list = [1,1,2,3]\n",
    "number = len(set(a_list))\n",
    "print(\"The unique = \",number)"
   ]
  },
  {
   "cell_type": "markdown",
   "id": "fed6677c",
   "metadata": {},
   "source": [
    "**31-write a python program Extract all elements with Frequency greater than K (Input : test_list = [4, 6, 4, 3, 3, 4, 3, 4, 3, 8], K = 3 \n",
    "Output : [4, 3] )"
   ]
  },
  {
   "cell_type": "code",
   "execution_count": null,
   "id": "d81f3f9d",
   "metadata": {},
   "outputs": [],
   "source": [
    "list = [1,2,3,4,5,6,130,40,120,3,2,2]\n",
    "number = 2\n",
    "FQ = []\n",
    "for x in list:\n",
    "    freq = list.count(x)\n",
    "    if freq > number and x not in FQ:\n",
    "        FQ.append(x)\n",
    "print(\"The frequancy = \",FQ)"
   ]
  },
  {
   "cell_type": "markdown",
   "id": "caca5224",
   "metadata": {},
   "source": [
    "**32-write a python program to find the Strongest Neighbour (Input: 1 2 2 3 4 5\n",
    "Output: 2 2 3 4 5)"
   ]
  },
  {
   "cell_type": "code",
   "execution_count": null,
   "id": "39fbd9b2",
   "metadata": {},
   "outputs": [],
   "source": [
    "list1 = [1,1,3,4,7,]\n",
    "list2 = []\n",
    "n = len(list1)\n",
    "for i in range(1, n):\n",
    "    r = max(list1[i], list1[i-1])\n",
    "    list2.append(r)\n",
    "for i in list2 :\n",
    "    print(i,end=\",\")"
   ]
  },
  {
   "cell_type": "markdown",
   "id": "a9fa8baf",
   "metadata": {},
   "source": [
    "**33-write a Python Program to print all Possible Combinations from the three Digits (Input: [1, 2, 3]\n",
    "Output:\n",
    "1 2 3 ##\n",
    "1 3 2 ##\n",
    "2 1 3 ##\n",
    "2 3 1 ##\n",
    "3 1 2 ##\n",
    "3 2 1)"
   ]
  },
  {
   "cell_type": "code",
   "execution_count": null,
   "id": "8c520a76",
   "metadata": {},
   "outputs": [],
   "source": [
    "list = [1,2,5]\n",
    "def possibale(list):\n",
    "    for x in range(3):\n",
    "        for i in range(3):\n",
    "            for y in range(3):\n",
    "                if (x != i and i !=y and x != y):\n",
    "                    print(list[x], list[i], list[y])\n",
    "possibale(list)"
   ]
  },
  {
   "cell_type": "markdown",
   "id": "5288bb89",
   "metadata": {},
   "source": [
    "**34-write a Python program to find all the Combinations in the list with the given condition (Input: test_list = [1,2,3] \n",
    "Output: \n",
    " [1], [1, 2], [1, 2, 3], [1, 3]\n",
    " [2], [2, 3], [3])"
   ]
  },
  {
   "cell_type": "code",
   "execution_count": null,
   "id": "59b89646",
   "metadata": {},
   "outputs": [],
   "source": [
    "from itertools import combinations\n",
    "# initializing list\n",
    "lists = [\"A\",\"B\",\"C\",\"D\"]\n",
    "y=0\n",
    "temp = combinations(lists, 2)\n",
    "for x in list(temp):\n",
    "    y = y+1\n",
    "    print (y, \":\", x)"
   ]
  },
  {
   "cell_type": "markdown",
   "id": "39973705",
   "metadata": {},
   "source": [
    "**35-write a Python program to get all unique combinations of two Lists (List_1 = [\"a\",\"b\"]\n",
    "List_2 = [1,2]\n",
    "Unique_combination = [[('a',1),('b',2)],[('a',2),('b',1)]] )"
   ]
  },
  {
   "cell_type": "code",
   "execution_count": null,
   "id": "8c4ba22b",
   "metadata": {},
   "outputs": [],
   "source": [
    "import itertools\n",
    "List1 = [\"a\", \"b\"]\n",
    "List2 = [1, 2]\n",
    "com = list(itertools.product(List1, List2))\n",
    "un_c = []\n",
    "for i,item in enumerate(com):\n",
    "    for j in range(i+1, len(com)):\n",
    "        if set(item).isdisjoint(set(com[j])):\n",
    "            un_c.append([item, com[j]])\n",
    "print(\"The result = \",un_c)"
   ]
  },
  {
   "cell_type": "markdown",
   "id": "25199af5",
   "metadata": {},
   "source": [
    "**36-Remove all the occurrences of an element from a list in Python (Input : 1 1 2 3 4 5 1 2 1 \n",
    "\n",
    "**Output : 2 3 4 5 2)"
   ]
  },
  {
   "cell_type": "code",
   "execution_count": null,
   "id": "6dc4c2ba",
   "metadata": {},
   "outputs": [],
   "source": [
    "input_list = [1,1,2,3,4,5 1,2,1]\n",
    "remove = 1\n",
    "list = [x for x in input_list if x != remove]\n",
    "print(\"The list after remove = \",list)"
   ]
  },
  {
   "cell_type": "markdown",
   "id": "bf1a3c93",
   "metadata": {},
   "source": [
    "**37-write a python program to Replace index elements with elements in Other List (The original list 1 is : [‘Gfg’, ‘is’, ‘best’] The original list 2 is : [0, 1, 2, 1, 0, 0, 0, 2, 1, 1, 2, 0] The lists after index elements replacements is : [‘Gfg’, ‘is’, ‘best’, ‘is’, ‘Gfg’, ‘Gfg’, ‘Gfg’, ‘best’, ‘is’, ‘is’, ‘best’, ‘Gfg’])"
   ]
  },
  {
   "cell_type": "code",
   "execution_count": null,
   "id": "fdd66a71",
   "metadata": {},
   "outputs": [],
   "source": [
    "list1 = [\"Gfg\",\"is\",\"best\"]\n",
    "list2 = [0,1,2,1,0,0,0,2,1,1,2,0]\n",
    "for x in list2:\n",
    "    for i in list1:\n",
    "        if x == list1.index(i):\n",
    "            list2[list2.index(x)] = i\n",
    "print(\"The list = \",list2)"
   ]
  },
  {
   "cell_type": "markdown",
   "id": "af0f56e8",
   "metadata": {},
   "source": [
    "**38- write python program to Retain records with N occurrences of K(Input : test_list = [(4, 5, 5, 4), (5, 4, 3)], K = 5, N = 2 \n",
    "Output : [(4, 5, 5, 4)]\n",
    "Input : test_list = [(4, 5, 5, 4), (5, 4, 3)], K = 5, N = 3 \n",
    "Output : [] )"
   ]
  },
  {
   "cell_type": "code",
   "execution_count": null,
   "id": "67b06671",
   "metadata": {},
   "outputs": [],
   "source": [
    "test_list = [(4, 5, 5, 4), (5, 4, 3)]\n",
    "finallist = []\n",
    "k = 5\n",
    "n = 3\n",
    "for x in test_list:\n",
    "    les = x\n",
    "    les = list(x)\n",
    "    if les.count(k) == n:\n",
    "        les = tuple(x)\n",
    "        finallist.append(les)\n",
    "print(finallist)"
   ]
  },
  {
   "cell_type": "markdown",
   "id": "de76f183",
   "metadata": {},
   "source": [
    "**39-write a Python Program to Sort the list according to the column using lambda\n",
    "array = [[1, 3, 3], [2, 1, 2], [3, 2, 1]]\n",
    "Output :\n",
    "Sorted array specific to column 0, [[1, 3, 3], [2, 1, 2], [3, 2, 1]]\n",
    "Sorted array specific to column 1, [[2, 1, 2], [3, 2, 1], [1, 3, 3]]\n",
    "Sorted array specific to column 2, [[3, 2, 1], [2, 1, 2], [1, 3, 3]]"
   ]
  },
  {
   "cell_type": "code",
   "execution_count": null,
   "id": "dc883308",
   "metadata": {},
   "outputs": [],
   "source": [
    "array = [[1, 3, 3], [2, 1, 2], [3, 2, 1]]\n",
    "length = len(array)\n",
    "for x in range(length):\n",
    "    sorted_array = sorted(array, key=lambda i: i[x])\n",
    "    print(\"sorted = \", x, \" = \", sorted_array)"
   ]
  },
  {
   "cell_type": "code",
   "execution_count": null,
   "id": "d2e7b31f",
   "metadata": {},
   "outputs": [],
   "source": [
    "**40- write a program to Sort Python Dictionaries by Key or Value\n",
    "Input:\n",
    "{'ravi': 10, 'rajnish': 9, 'sanjeev': 15, 'yash': 2, 'suraj': 32}\n",
    "\n",
    "Output: \n",
    "{'rajnish': 9, 'ravi': 10, 'sanjeev': 15, 'suraj': 32, 'yash': 2}"
   ]
  },
  {
   "cell_type": "code",
   "execution_count": null,
   "id": "a96db4a0",
   "metadata": {},
   "outputs": [],
   "source": [
    "dic = {'ravi': 10, 'rajnish': 9,'sanjeev': 15, 'yash': 2, 'suraj': 32}\n",
    "all_keys = list(dic.keys())\n",
    "all_keys.sort()\n",
    "sorted = {\n",
    "         i: dic[i] for i in all_keys\n",
    "         }\n",
    "print(\"The list after sorting = \",sorted)"
   ]
  },
  {
   "cell_type": "markdown",
   "id": "ec63c23a",
   "metadata": {},
   "source": [
    "**41-write python program to Remove keys with Values Greater than K ( Including mixed values )\n",
    "nput : test_dict = {‘Gfg’ : 3, ‘is’ : 7, ‘best’ : 10, ‘for’ : 6, ‘geeks’ : ‘CS’},\n",
    "K = 7 \n",
    "Output : {‘Gfg’ : 3, ‘for’ : 6, ‘geeks’ : ‘CS’}"
   ]
  },
  {
   "cell_type": "code",
   "execution_count": null,
   "id": "e39c3a40",
   "metadata": {},
   "outputs": [],
   "source": [
    "test_dict = {'Gfg': 3, 'is': 7, 'best': 10, 'for': 6, 'geeks': 'CS'}\n",
    "K = 7\n",
    "test_dict = {key: val for key, val in test_dict.items() if val <= K}\n",
    "print(\"After remove = \",test_dict)"
   ]
  },
  {
   "cell_type": "markdown",
   "id": "f143f0fe",
   "metadata": {},
   "source": [
    "**42-Write a Python program to concatenate the following dictionaries to create a new one\n",
    "\n",
    "Sample Dictionary :\n",
    "dic1={1:10, 2:20}\n",
    "dic2={3:30, 4:40}\n",
    "dic3={5:50,6:60}\n",
    "Expected Result : {1: 10, 2: 20, 3: 30, 4: 40, 5: 50, 6: 60}"
   ]
  },
  {
   "cell_type": "code",
   "execution_count": null,
   "id": "74ffdfea",
   "metadata": {},
   "outputs": [],
   "source": [
    "dic1={1:10, 2:20}\n",
    "dic2={3:30, 4:40}\n",
    "dic3={5:50,6:60}\n",
    "finalldic = {}\n",
    "for x in (dic1,dic2,dic3):\n",
    "    finalldic.update(x)\n",
    "print(\"The result after concatenate = \",finalldic)"
   ]
  },
  {
   "cell_type": "markdown",
   "id": "fb04c93c",
   "metadata": {},
   "source": [
    "**43-Write a Python program to iterate over dictionaries using for loops"
   ]
  },
  {
   "cell_type": "code",
   "execution_count": null,
   "id": "6aebc470",
   "metadata": {},
   "outputs": [],
   "source": [
    "dic = {'ravi': 10, 'rajnish': 9,'sanjeev': 15, 'yash': 2, 'suraj': 32}\n",
    "print(\"The iterate : \")\n",
    "for value,key in dic.items():\n",
    "    print(value,key)"
   ]
  },
  {
   "cell_type": "markdown",
   "id": "5f491a9d",
   "metadata": {},
   "source": [
    "**44- Write a Python script to merge two Python dictionaries"
   ]
  },
  {
   "cell_type": "code",
   "execution_count": null,
   "id": "b8a14028",
   "metadata": {},
   "outputs": [],
   "source": [
    "dic1={1:10, 2:20}\n",
    "dic2={3:30, 4:40}\n",
    "merge = {}\n",
    "for x in (dic1,dic2):\n",
    "    merge.update(x)\n",
    "print(\"The result after merge = \",merge)"
   ]
  },
  {
   "cell_type": "markdown",
   "id": "216fc72d",
   "metadata": {},
   "source": [
    "**45-Write a Python program to get the maximum and minimum values of a dictionary values"
   ]
  },
  {
   "cell_type": "code",
   "execution_count": null,
   "id": "d6883f5f",
   "metadata": {},
   "outputs": [],
   "source": [
    "dic = {'a':100, 'b':999999, 'c': 5}\n",
    "max = max(dic.values())\n",
    "min = min(dic.values())\n",
    "print(\"The max value in dic = \",max)\n",
    "print(\"The min value in dic = \",min)"
   ]
  },
  {
   "cell_type": "markdown",
   "id": "b6a53011",
   "metadata": {},
   "source": [
    "**46- Write a Python program to drop empty items from a given dictionary.\n",
    "Original Dictionary:\n",
    "{'c1': 'Red', 'c2': 'Green', 'c3': None}\n",
    "New Dictionary after dropping empty items:\n",
    "{'c1': 'Red', 'c2': 'Green'}"
   ]
  },
  {
   "cell_type": "code",
   "execution_count": null,
   "id": "b5c6fecf",
   "metadata": {},
   "outputs": [],
   "source": [
    "dic = {'ravi': 10, 'rajnish': 9,'sanjeev': 15, 'yash': 2, 'suraj': None}\n",
    "dic = {\n",
    "    value:key for (value, key) in dic.items() if key is not None\n",
    "      }\n",
    "print(dic)"
   ]
  },
  {
   "cell_type": "markdown",
   "id": "46d718c7",
   "metadata": {},
   "source": [
    "**47-Write a Python program to create a tuple of numbers and print one item"
   ]
  },
  {
   "cell_type": "code",
   "execution_count": null,
   "id": "13216ff5",
   "metadata": {},
   "outputs": [],
   "source": [
    "tuple = (1,2,3,4,5,6)\n",
    "print(\"One value from tuble = \",tuble[0])\n",
    "print(type(tuble))"
   ]
  },
  {
   "cell_type": "markdown",
   "id": "2be5b56b",
   "metadata": {},
   "source": [
    "**48-Write a Python program to unpack a tuple into several variables"
   ]
  },
  {
   "cell_type": "code",
   "execution_count": null,
   "id": "595f44be",
   "metadata": {},
   "outputs": [],
   "source": [
    "tuple = (1,2,3)\n",
    "x,y,z = tuple\n",
    "print(\"1 = \",x,\", 2 = \",y,\", 3 = \",z)"
   ]
  },
  {
   "cell_type": "markdown",
   "id": "392388a7",
   "metadata": {},
   "source": [
    "**49-Write a Python program to add an item to a tuple"
   ]
  },
  {
   "cell_type": "code",
   "execution_count": null,
   "id": "54cc092e",
   "metadata": {},
   "outputs": [],
   "source": [
    "list = [1,2,3,4]\n",
    "tuple = tuple(list)\n",
    "print(\"Put any numberin list to add to the tuble = \",tuble)"
   ]
  },
  {
   "cell_type": "markdown",
   "id": "3e8fd124",
   "metadata": {},
   "source": [
    "**50-Write a Python program to convert a tuple to a string"
   ]
  },
  {
   "cell_type": "code",
   "execution_count": null,
   "id": "92a71ddc",
   "metadata": {},
   "outputs": [],
   "source": [
    "tuple = ('A','h','m','e','d')\n",
    "string = ''.join(tuple)\n",
    "print(\"The string = \",string)"
   ]
  },
  {
   "cell_type": "markdown",
   "id": "f4f64ef4",
   "metadata": {},
   "source": [
    "**51-Write a Python program to convert a list to a tuple"
   ]
  },
  {
   "cell_type": "code",
   "execution_count": null,
   "id": "210d56d3",
   "metadata": {},
   "outputs": [],
   "source": [
    "list = [1,2,3,4,5,6]\n",
    "tuple = tuple(list)\n",
    "print(\"After converting = \",tuple)\n",
    "print(type(tuple))"
   ]
  },
  {
   "cell_type": "markdown",
   "id": "b1e00ef7",
   "metadata": {},
   "source": [
    "**52-Write a Python program to reverse a tuple"
   ]
  },
  {
   "cell_type": "code",
   "execution_count": null,
   "id": "f45bfdc7",
   "metadata": {},
   "outputs": [],
   "source": [
    "tuple1 = (100,200,300,400)\n",
    "tuple2 = reversed(tuple1)\n",
    "print(\"The result of reverse a tuple = \",tuple(tuple2))"
   ]
  },
  {
   "cell_type": "markdown",
   "id": "3cd347d1",
   "metadata": {},
   "source": [
    "**53-Write a Python program to replace the last value of tuples in a list.\n",
    "Sample list: [(10, 20, 40), (40, 50, 60), (70, 80, 90)]\n",
    "Expected Output: [(10, 20, 100), (40, 50, 100), (70, 80, 100)]"
   ]
  },
  {
   "cell_type": "code",
   "execution_count": null,
   "id": "3c4a2a4c",
   "metadata": {},
   "outputs": [],
   "source": [
    "list =[(10, 20, 40), (40, 50, 60), (70, 80, 90)]\n",
    "list = [t[:-1] + (100,) for t in list]\n",
    "print(\"The list = \",list)"
   ]
  },
  {
   "cell_type": "markdown",
   "id": "76bb7b39",
   "metadata": {},
   "source": [
    "**54-Write a Python program to convert a given string list to a tuple\n",
    "Original string: python 3.0\n",
    "<class 'str'>\n",
    "Convert the said string to a tuple:\n",
    "('p', 'y', 't', 'h', 'o', 'n', '3', '.', '0')"
   ]
  },
  {
   "cell_type": "code",
   "execution_count": null,
   "id": "51951937",
   "metadata": {},
   "outputs": [],
   "source": [
    "string = input(\"Please enter any thing: \")\n",
    "spacestring = tuple(x for x in string if not x.isspace())\n",
    "print(\"The space of string = \",spacestring)\n",
    "print(type(spacestring))"
   ]
  },
  {
   "cell_type": "markdown",
   "id": "5a1d5d97",
   "metadata": {},
   "source": [
    "**55-Write a Python program to calculate the average value of the numbers in a given tuple of tuples"
   ]
  },
  {
   "cell_type": "code",
   "execution_count": null,
   "id": "834e7992",
   "metadata": {},
   "outputs": [],
   "source": [
    "tuples = (1,2,3,4) , (2,3,4,5,6) , (9,9,9,9)\n",
    "total = 0\n",
    "for i in tuples:\n",
    "    for x in i:\n",
    "        total = total+x\n",
    "AVG = (total / len(tuples))\n",
    "print(\"The AVG of number in tuple = \",AVG)"
   ]
  },
  {
   "cell_type": "markdown",
   "id": "51edab9c",
   "metadata": {},
   "source": [
    "**56-Write a Python program to add member(s) to a set."
   ]
  },
  {
   "cell_type": "code",
   "execution_count": null,
   "id": "2b65df79",
   "metadata": {},
   "outputs": [],
   "source": [
    "set = set()\n",
    "set.add(input(\"please enter somthing to add in set: \"))\n",
    "print(\"After add one item = \",set)\n",
    "print(\"more than one? ok\")\n",
    "set.update([\"Ahmed\",\"Aly\"])\n",
    "print(\"After add more than one item = \" ,set)"
   ]
  },
  {
   "cell_type": "markdown",
   "id": "965590cc",
   "metadata": {},
   "source": [
    "**57-Write a Python program to remove an item from a set if it is present in the set."
   ]
  },
  {
   "cell_type": "code",
   "execution_count": null,
   "id": "866bab28",
   "metadata": {},
   "outputs": [],
   "source": [
    "set = set([0,1,2,3,4,5,6,7,8,9,10])\n",
    "set.discard(4)\n",
    "print(\"After remove = \",set)"
   ]
  },
  {
   "cell_type": "markdown",
   "id": "2b7cfed1",
   "metadata": {},
   "source": [
    "**58-Write a Python program to create an intersection,union,difference and symmetric difference of sets"
   ]
  },
  {
   "cell_type": "code",
   "execution_count": null,
   "id": "7f94b7fe",
   "metadata": {},
   "outputs": [],
   "source": [
    "set1 = {1,4,9,8,6};\n",
    "set2 = {4,5,2,1,7};\n",
    "print(\"Union = \", set1|set2)\n",
    "print(\"Intersection = \", set1&set2)\n",
    "print(\"Difference = \", set1-set2)\n",
    "print(\"Symmetric difference = \", set1^set2)"
   ]
  },
  {
   "cell_type": "markdown",
   "id": "b94931e2",
   "metadata": {},
   "source": [
    "**59-Write a Python program to find the maximum and minimum values in a set"
   ]
  },
  {
   "cell_type": "code",
   "execution_count": null,
   "id": "203f9600",
   "metadata": {},
   "outputs": [],
   "source": [
    "set = {100,39,85,700}\n",
    "print(\"The max = \",max(set))\n",
    "print(\"The min = :\",min(set))"
   ]
  },
  {
   "cell_type": "markdown",
   "id": "255fd554",
   "metadata": {},
   "source": [
    "**60- Write a Python program that finds all pairs of elements in a list whose sum is equal to a given value."
   ]
  },
  {
   "cell_type": "code",
   "execution_count": null,
   "id": "c2d94e1f",
   "metadata": {},
   "outputs": [],
   "source": [
    "lst = [1,5,7,8,9,10]\n",
    "number = 12\n",
    "newlist = []\n",
    "while lst:\n",
    "    num = lst.pop()\n",
    "    diff = number- num\n",
    "    if diff in lst:\n",
    "        newlist.append((diff, num))\n",
    "print(newlist)"
   ]
  }
 ],
 "metadata": {
  "kernelspec": {
   "display_name": "Python 3 (ipykernel)",
   "language": "python",
   "name": "python3"
  },
  "language_info": {
   "codemirror_mode": {
    "name": "ipython",
    "version": 3
   },
   "file_extension": ".py",
   "mimetype": "text/x-python",
   "name": "python",
   "nbconvert_exporter": "python",
   "pygments_lexer": "ipython3",
   "version": "3.11.4"
  }
 },
 "nbformat": 4,
 "nbformat_minor": 5
}
